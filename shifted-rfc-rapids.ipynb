{
 "cells": [
  {
   "cell_type": "code",
   "execution_count": 1,
   "metadata": {
    "_cell_guid": "b1076dfc-b9ad-4769-8c92-a6c4dae69d19",
    "_uuid": "8f2839f25d086af736a60e9eeb907d3b93b6e0e5",
    "execution": {
     "iopub.execute_input": "2020-11-02T03:27:56.734509Z",
     "iopub.status.busy": "2020-11-02T03:27:56.733777Z",
     "iopub.status.idle": "2020-11-02T03:29:28.796606Z",
     "shell.execute_reply": "2020-11-02T03:29:28.795524Z"
    },
    "papermill": {
     "duration": 92.084376,
     "end_time": "2020-11-02T03:29:28.796768",
     "exception": false,
     "start_time": "2020-11-02T03:27:56.712392",
     "status": "completed"
    },
    "tags": []
   },
   "outputs": [],
   "source": [
    "# Install RAPIDS 0.15.0\n",
    "\n",
    "import sys\n",
    "!cp ../input/rapids/rapids.0.15.0 /opt/conda/envs/rapids.tar.gz\n",
    "!cd /opt/conda/envs/ && tar -xzvf rapids.tar.gz > /dev/null\n",
    "sys.path = [\"/opt/conda/envs/rapids/lib/python3.7/site-packages\"] + sys.path\n",
    "sys.path = [\"/opt/conda/envs/rapids/lib/python3.7\"] + sys.path\n",
    "sys.path = [\"/opt/conda/envs/rapids/lib\"] + sys.path \n",
    "!cp /opt/conda/envs/rapids/lib/libxgboost.so /opt/conda/lib/"
   ]
  },
  {
   "cell_type": "code",
   "execution_count": 2,
   "metadata": {
    "_cell_guid": "79c7e3d0-c299-4dcb-8224-4455121ee9b0",
    "_uuid": "d629ff2d2480ee46fbb7e2d37f6b5fab8052498a",
    "execution": {
     "iopub.execute_input": "2020-11-02T03:29:51.399431Z",
     "iopub.status.busy": "2020-11-02T03:29:51.395493Z",
     "iopub.status.idle": "2020-11-02T03:29:53.253988Z",
     "shell.execute_reply": "2020-11-02T03:29:53.254797Z"
    },
    "papermill": {
     "duration": 1.896994,
     "end_time": "2020-11-02T03:29:53.254973",
     "exception": false,
     "start_time": "2020-11-02T03:29:51.357979",
     "status": "completed"
    },
    "tags": []
   },
   "outputs": [
    {
     "name": "stdout",
     "output_type": "stream",
     "text": [
      "CUML version: 0.15.0\n"
     ]
    }
   ],
   "source": [
    "import os, gc\n",
    "\n",
    "import numpy as np\n",
    "import pandas as pd\n",
    "\n",
    "from sklearn.ensemble import RandomForestClassifier\n",
    "from sklearn.pipeline import make_pipeline\n",
    "from sklearn.base import BaseEstimator, TransformerMixin\n",
    "from sklearn.metrics import f1_score, accuracy_score\n",
    "from sklearn.model_selection import KFold, StratifiedKFold\n",
    "\n",
    "import cuml\n",
    "from cuml.ensemble import RandomForestRegressor, RandomForestClassifier\n",
    "import cudf\n",
    "\n",
    "print(\"CUML version:\", cuml.__version__)"
   ]
  },
  {
   "cell_type": "code",
   "execution_count": 3,
   "metadata": {
    "execution": {
     "iopub.execute_input": "2020-11-02T03:29:53.291604Z",
     "iopub.status.busy": "2020-11-02T03:29:53.289734Z",
     "iopub.status.idle": "2020-11-02T03:29:53.292444Z",
     "shell.execute_reply": "2020-11-02T03:29:53.294786Z"
    },
    "papermill": {
     "duration": 0.032137,
     "end_time": "2020-11-02T03:29:53.294956",
     "exception": false,
     "start_time": "2020-11-02T03:29:53.262819",
     "status": "completed"
    },
    "tags": []
   },
   "outputs": [],
   "source": [
    "def load_data():\n",
    "    train = pd.read_csv(\"../input/ion-clean/train_full_clean.csv\")\n",
    "    test = pd.read_csv(\"../input/ion-clean/test_full_clean.csv\")\n",
    "    sub = pd.read_csv(\"../input/liverpool-ion-switching/sample_submission.csv\")\n",
    "    train['signal'] = train['signal'].astype( np.float32 )\n",
    "    train['open_channels'] = train['open_channels'].astype( np.float32 )\n",
    "    test['signal'] = test['signal'].astype( np.float32 )\n",
    "    return train, test, sub\n",
    "\n",
    "\n",
    "def add_category(train, test):\n",
    "    # treat 10 open channels group as another category\n",
    "    \n",
    "    train[\"category\"] = 0\n",
    "    test[\"category\"] = 0\n",
    "    \n",
    "    # train segments with more then 9 open channels classes\n",
    "    train.loc[2_000_000:2_500_000, 'category'] = 1\n",
    "    train.loc[4_500_000:5_000_000, 'category'] = 1\n",
    "    \n",
    "    # test segments with more then 9 open channels classes (potentially)\n",
    "    test.loc[500_000:600_000, \"category\"] = 1\n",
    "    test.loc[700_000:800_000, \"category\"] = 1\n",
    "    \n",
    "    train['category'] = train['category'].astype( np.float32 )\n",
    "    test['category'] = test['category'].astype( np.float32 )\n",
    "    \n",
    "    return train, test\n",
    "\n",
    "\n",
    "def add_features(df, num_shift=11):\n",
    "    steps = np.arange(1, num_shift+1, dtype=np.int32)\n",
    "    steps = np.append(steps, -steps)\n",
    "    for step in steps:\n",
    "        df['signal_shift_' + str(step)] = df['signal'].shift(step, fill_value=0).astype( np.float32 )\n",
    "    df['signal_2'] = (df['signal'] ** 2).astype( np.float32 )\n",
    "    return df\n",
    "\n",
    "\n",
    "def augment_data(df):\n",
    "    aug_df = df[df[\"group\"] == 5].copy()\n",
    "    aug_df[\"category\"] = 1\n",
    "    aug_df[\"group\"] = 10\n",
    "    for col in [\"signal\", \"open_channels\"]:\n",
    "        aug_df[col] += df[df[\"group\"] == 8][col].values\n",
    "\n",
    "    aug_df['category'] = aug_df['category'].astype( np.float32 )\n",
    "    df = df.append(aug_df, sort=False)\n",
    "    return df\n",
    "\n",
    "\n",
    "def drop_columns(df, columns=('open_channels', 'time', 'group')):\n",
    "    return df[[c for c in df.columns if c not in columns]]"
   ]
  },
  {
   "cell_type": "code",
   "execution_count": 4,
   "metadata": {
    "execution": {
     "iopub.execute_input": "2020-11-02T03:29:53.325353Z",
     "iopub.status.busy": "2020-11-02T03:29:53.324348Z",
     "iopub.status.idle": "2020-11-02T03:31:54.958779Z",
     "shell.execute_reply": "2020-11-02T03:31:54.957690Z"
    },
    "papermill": {
     "duration": 121.657446,
     "end_time": "2020-11-02T03:31:54.958911",
     "exception": false,
     "start_time": "2020-11-02T03:29:53.301465",
     "status": "completed"
    },
    "tags": []
   },
   "outputs": [
    {
     "name": "stdout",
     "output_type": "stream",
     "text": [
      "Fold 0\n",
      "Fold 1\n",
      "Fold 2\n",
      "Fold 3\n",
      "Fold 4\n"
     ]
    }
   ],
   "source": [
    "train, test, sub = load_data()\n",
    "train[\"group\"] = np.arange(train.shape[0]) // 500_000\n",
    "\n",
    "train, test = add_category(train, test)\n",
    "train = augment_data(train)\n",
    "train = add_features(train)\n",
    "test = add_features(test)\n",
    "\n",
    "oof_preds = np.zeros((len(train)))\n",
    "pred_test = np.zeros((len(test)))\n",
    "test = cudf.from_pandas( drop_columns(test) )\n",
    "\n",
    "kf = StratifiedKFold(n_splits=5, shuffle=True, random_state=42)\n",
    "\n",
    "for fold, (trn_ind, val_ind) in enumerate(kf.split(train, train[\"group\"])):\n",
    "    print(f'Fold {fold}')\n",
    "    \n",
    "    trn, val = train.iloc[trn_ind], train.iloc[val_ind]\n",
    "    x_trn = cudf.from_pandas( drop_columns(trn) )\n",
    "    x_val   = cudf.from_pandas( drop_columns(val) )\n",
    "    \n",
    "    model = RandomForestClassifier( #RandomForestRegressor\n",
    "            n_estimators=50,\n",
    "            rows_sample = 0.4,\n",
    "            max_depth=18,\n",
    "            max_features=11,        \n",
    "            split_algo=0,\n",
    "            bootstrap=False, #Don't use repeated rows, this is important to set to False to improve accuracy\n",
    "        ).fit( x_trn, trn.open_channels )\n",
    "    \n",
    "    pred_val = model.predict( x_val ).to_array()\n",
    "    oof_preds[val_ind] = pred_val  # np.round( pred_val )\n",
    "        \n",
    "    pred_test += model.predict( test ).to_array() / 5\n",
    "    del model; _=gc.collect()"
   ]
  },
  {
   "cell_type": "code",
   "execution_count": 5,
   "metadata": {
    "execution": {
     "iopub.execute_input": "2020-11-02T03:31:54.980290Z",
     "iopub.status.busy": "2020-11-02T03:31:54.979200Z",
     "iopub.status.idle": "2020-11-02T03:31:57.359506Z",
     "shell.execute_reply": "2020-11-02T03:31:57.358985Z"
    },
    "papermill": {
     "duration": 2.392777,
     "end_time": "2020-11-02T03:31:57.359613",
     "exception": false,
     "start_time": "2020-11-02T03:31:54.966836",
     "status": "completed"
    },
    "tags": []
   },
   "outputs": [
    {
     "data": {
      "text/plain": [
       "0.9387900683831796"
      ]
     },
     "execution_count": 5,
     "metadata": {},
     "output_type": "execute_result"
    }
   ],
   "source": [
    "f1_score(train.open_channels, oof_preds, average=\"macro\")"
   ]
  },
  {
   "cell_type": "code",
   "execution_count": 6,
   "metadata": {
    "execution": {
     "iopub.execute_input": "2020-11-02T03:31:57.382975Z",
     "iopub.status.busy": "2020-11-02T03:31:57.381592Z",
     "iopub.status.idle": "2020-11-02T03:32:05.861376Z",
     "shell.execute_reply": "2020-11-02T03:32:05.860826Z"
    },
    "papermill": {
     "duration": 8.493768,
     "end_time": "2020-11-02T03:32:05.861492",
     "exception": false,
     "start_time": "2020-11-02T03:31:57.367724",
     "status": "completed"
    },
    "tags": []
   },
   "outputs": [],
   "source": [
    "sub.open_channels = np.round( pred_test ).astype(np.int32)\n",
    "sub.to_csv(\"submission.csv\", index=False, float_format='%.4f')"
   ]
  }
 ],
 "metadata": {
  "kernelspec": {
   "display_name": "Python 3",
   "language": "python",
   "name": "python3"
  },
  "language_info": {
   "codemirror_mode": {
    "name": "ipython",
    "version": 3
   },
   "file_extension": ".py",
   "mimetype": "text/x-python",
   "name": "python",
   "nbconvert_exporter": "python",
   "pygments_lexer": "ipython3",
   "version": "3.7.6"
  },
  "papermill": {
   "duration": 254.991724,
   "end_time": "2020-11-02T03:32:07.409958",
   "environment_variables": {},
   "exception": null,
   "input_path": "__notebook__.ipynb",
   "output_path": "__notebook__.ipynb",
   "parameters": {},
   "start_time": "2020-11-02T03:27:52.418234",
   "version": "2.1.0"
  }
 },
 "nbformat": 4,
 "nbformat_minor": 4
}
