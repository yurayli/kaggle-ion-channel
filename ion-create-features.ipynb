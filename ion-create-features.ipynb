{
 "cells": [
  {
   "cell_type": "code",
   "execution_count": 1,
   "metadata": {
    "_cell_guid": "b1076dfc-b9ad-4769-8c92-a6c4dae69d19",
    "_uuid": "8f2839f25d086af736a60e9eeb907d3b93b6e0e5",
    "execution": {
     "iopub.execute_input": "2020-10-30T02:49:17.932998Z",
     "iopub.status.busy": "2020-10-30T02:49:17.932261Z",
     "iopub.status.idle": "2020-10-30T02:49:18.949813Z",
     "shell.execute_reply": "2020-10-30T02:49:18.949224Z"
    },
    "papermill": {
     "duration": 1.034523,
     "end_time": "2020-10-30T02:49:18.949996",
     "exception": false,
     "start_time": "2020-10-30T02:49:17.915473",
     "status": "completed"
    },
    "tags": []
   },
   "outputs": [],
   "source": [
    "import os, math\n",
    "import numpy as np\n",
    "import pandas as pd\n",
    "from scipy import signal\n",
    "\n",
    "import matplotlib.pyplot as plt\n",
    "import seaborn as sns"
   ]
  },
  {
   "cell_type": "code",
   "execution_count": 2,
   "metadata": {
    "execution": {
     "iopub.execute_input": "2020-10-30T02:49:18.972489Z",
     "iopub.status.busy": "2020-10-30T02:49:18.971756Z",
     "iopub.status.idle": "2020-10-30T02:49:21.377989Z",
     "shell.execute_reply": "2020-10-30T02:49:21.377398Z"
    },
    "papermill": {
     "duration": 2.420672,
     "end_time": "2020-10-30T02:49:21.378112",
     "exception": false,
     "start_time": "2020-10-30T02:49:18.957440",
     "status": "completed"
    },
    "tags": []
   },
   "outputs": [],
   "source": [
    "train = pd.read_csv('../input/data-without-drift/train_clean.csv')\n",
    "test = pd.read_csv('../input/data-without-drift/test_clean.csv')\n",
    "\n",
    "train[\"group\"] = np.arange(train.shape[0]) // 500_000"
   ]
  },
  {
   "cell_type": "code",
   "execution_count": 3,
   "metadata": {
    "execution": {
     "iopub.execute_input": "2020-10-30T02:49:21.407685Z",
     "iopub.status.busy": "2020-10-30T02:49:21.406941Z",
     "iopub.status.idle": "2020-10-30T02:49:21.409937Z",
     "shell.execute_reply": "2020-10-30T02:49:21.409304Z"
    },
    "papermill": {
     "duration": 0.025042,
     "end_time": "2020-10-30T02:49:21.410053",
     "exception": false,
     "start_time": "2020-10-30T02:49:21.385011",
     "status": "completed"
    },
    "tags": []
   },
   "outputs": [],
   "source": [
    "def reduce_mem_usage(df, verbose=True):\n",
    "    numerics = ['int16', 'int32', 'int64', 'float16', 'float32', 'float64']\n",
    "    start_mem = df.memory_usage().sum() / 1024**2    \n",
    "    for col in df.columns:\n",
    "        if col!='open_channels':\n",
    "            col_type = df[col].dtypes\n",
    "            if col_type in numerics:\n",
    "                c_min = df[col].min()\n",
    "                c_max = df[col].max()\n",
    "                if str(col_type)[:3] == 'int':\n",
    "                    if c_min > np.iinfo(np.int8).min and c_max < np.iinfo(np.int8).max:\n",
    "                        df[col] = df[col].astype(np.int8)\n",
    "                    elif c_min > np.iinfo(np.int16).min and c_max < np.iinfo(np.int16).max:\n",
    "                        df[col] = df[col].astype(np.int16)\n",
    "                    elif c_min > np.iinfo(np.int32).min and c_max < np.iinfo(np.int32).max:\n",
    "                        df[col] = df[col].astype(np.int32)\n",
    "                    elif c_min > np.iinfo(np.int64).min and c_max < np.iinfo(np.int64).max:\n",
    "                        df[col] = df[col].astype(np.int64)  \n",
    "                else:\n",
    "                    if c_min > np.finfo(np.float16).min and c_max < np.finfo(np.float16).max:\n",
    "                        df[col] = df[col].astype(np.float16)\n",
    "                    elif c_min > np.finfo(np.float32).min and c_max < np.finfo(np.float32).max:\n",
    "                        df[col] = df[col].astype(np.float32)\n",
    "                    else:\n",
    "                        df[col] = df[col].astype(np.float64)    \n",
    "    end_mem = df.memory_usage().sum() / 1024**2\n",
    "    if verbose: print('Mem. usage decreased to {:5.2f} Mb ({:.1f}% reduction)'.format(end_mem, 100 * (start_mem - end_mem) / start_mem))\n",
    "    return df"
   ]
  },
  {
   "cell_type": "code",
   "execution_count": 4,
   "metadata": {
    "execution": {
     "iopub.execute_input": "2020-10-30T02:49:21.444024Z",
     "iopub.status.busy": "2020-10-30T02:49:21.443350Z",
     "iopub.status.idle": "2020-10-30T02:49:21.446659Z",
     "shell.execute_reply": "2020-10-30T02:49:21.446151Z"
    },
    "papermill": {
     "duration": 0.029836,
     "end_time": "2020-10-30T02:49:21.446778",
     "exception": false,
     "start_time": "2020-10-30T02:49:21.416942",
     "status": "completed"
    },
    "tags": []
   },
   "outputs": [],
   "source": [
    "# signal processing features\n",
    "def calc_gradients(s, n_grads=4):\n",
    "    '''\n",
    "    Calculate gradients for a pandas series. Returns the same number of samples\n",
    "    '''\n",
    "    grads = pd.DataFrame()\n",
    "    \n",
    "    g = s.values\n",
    "    for i in range(n_grads):\n",
    "        g = np.gradient(g)\n",
    "        grads['grad_' + str(i+1)] = g\n",
    "        \n",
    "    return grads\n",
    "\n",
    "def calc_low_pass(s, n_filts=5):\n",
    "    '''\n",
    "    Applies low pass filters to the signal. Left delayed and no delayed\n",
    "    '''\n",
    "    wns = np.logspace(-2, -0.3, n_filts)\n",
    "    \n",
    "    low_pass = pd.DataFrame()\n",
    "    x = s.values\n",
    "    for wn in wns:\n",
    "        b, a = signal.butter(1, Wn=wn, btype='low')\n",
    "        zi = signal.lfilter_zi(b, a)\n",
    "        low_pass['lowpass_lf_' + str('%.4f' %wn)] = signal.lfilter(b, a, x, zi=zi*x[0])[0]\n",
    "        low_pass['lowpass_ff_' + str('%.4f' %wn)] = signal.filtfilt(b, a, x)\n",
    "        \n",
    "    return low_pass\n",
    "\n",
    "def calc_high_pass(s, n_filts=5):\n",
    "    '''\n",
    "    Applies high pass filters to the signal. Left delayed and no delayed\n",
    "    '''\n",
    "    wns = np.logspace(-2, -0.1, n_filts)\n",
    "    \n",
    "    high_pass = pd.DataFrame()\n",
    "    x = s.values\n",
    "    for wn in wns:\n",
    "        b, a = signal.butter(1, Wn=wn, btype='high')\n",
    "        zi = signal.lfilter_zi(b, a)\n",
    "        high_pass['highpass_lf_' + str('%.4f' %wn)] = signal.lfilter(b, a, x, zi=zi*x[0])[0]\n",
    "        high_pass['highpass_ff_' + str('%.4f' %wn)] = signal.filtfilt(b, a, x)\n",
    "        \n",
    "    return high_pass\n",
    "\n",
    "def calc_ewm(s, windows=[10, 100]):\n",
    "    '''\n",
    "    Calculates exponential weighted functions\n",
    "    '''\n",
    "    ewm = pd.DataFrame()\n",
    "    for w in windows:\n",
    "        ewm['ewm_mean_' + str(w)] = s.ewm(span=w, min_periods=1).mean()\n",
    "        ewm['ewm_std_' + str(w)] = s.ewm(span=w, min_periods=1).std()\n",
    "        \n",
    "    # add zeros when na values (std)\n",
    "    ewm = ewm.fillna(value=0)\n",
    "        \n",
    "    return ewm\n",
    "\n",
    "def calc_signal_features(s):\n",
    "    '''\n",
    "    All calculations together\n",
    "    '''\n",
    "    \n",
    "    gradients = calc_gradients(s)\n",
    "    low_pass = calc_low_pass(s)\n",
    "    high_pass = calc_high_pass(s)\n",
    "    ewm = calc_ewm(s)\n",
    "    \n",
    "    return pd.concat([s, gradients, low_pass, high_pass, ewm], axis=1)\n",
    "\n",
    "def signal_features(s, signal_size=500000):\n",
    "    '''\n",
    "    Divide the signal in bags of \"signal_size\".\n",
    "    Normalize the data dividing it by 15.0\n",
    "    '''\n",
    "    # normalize\n",
    "    s = s / 15.0\n",
    "    \n",
    "    ls = []\n",
    "    for i in range(s.shape[0]//signal_size):\n",
    "        sig = s[i*signal_size:(i+1)*signal_size].copy().reset_index(drop=True)\n",
    "        sig_featured = calc_signal_features(sig)\n",
    "        ls.append(sig_featured)\n",
    "    \n",
    "    ls = pd.concat(ls, axis=0)\n",
    "    return ls[ls.columns[1:]]"
   ]
  },
  {
   "cell_type": "code",
   "execution_count": 5,
   "metadata": {
    "execution": {
     "iopub.execute_input": "2020-10-30T02:49:21.485049Z",
     "iopub.status.busy": "2020-10-30T02:49:21.479509Z",
     "iopub.status.idle": "2020-10-30T02:49:21.488177Z",
     "shell.execute_reply": "2020-10-30T02:49:21.487621Z"
    },
    "papermill": {
     "duration": 0.034474,
     "end_time": "2020-10-30T02:49:21.488296",
     "exception": false,
     "start_time": "2020-10-30T02:49:21.453822",
     "status": "completed"
    },
    "tags": []
   },
   "outputs": [],
   "source": [
    "# rolling and aggreagate batch features\n",
    "def rolling_features(df):\n",
    "    for window in [10, 100]:\n",
    "        # rolling\n",
    "        df['mean_t' + str(window)] = df.groupby(['group'])['signal'].transform(lambda x: x.rolling(window).mean())\n",
    "        df['std_t' + str(window)] = df.groupby(['group'])['signal'].transform(lambda x: x.rolling(window).std())\n",
    "        df['var_t' + str(window)] = df.groupby(['group'])['signal'].transform(lambda x: x.rolling(window).var())\n",
    "        df['q25_t' + str(window)] = df.groupby(['group'])['signal'].transform(lambda x: x.rolling(window).quantile(0.25))\n",
    "        df['q50_t' + str(window)] = df.groupby(['group'])['signal'].transform(lambda x: x.rolling(window).quantile(0.50))\n",
    "        df['q75_t' + str(window)] = df.groupby(['group'])['signal'].transform(lambda x: x.rolling(window).quantile(0.75))\n",
    "        df['min_t' + str(window)] = df.groupby(['group'])['signal'].transform(lambda x: x.rolling(window).min())\n",
    "        df['max_t' + str(window)] = df.groupby(['group'])['signal'].transform(lambda x: x.rolling(window).max())\n",
    "        min_max = (df['signal'] - df['min_t' + str(window)]) / (df['max_t' + str(window)] - df['min_t' + str(window)])\n",
    "        df['norm_t' + str(window)] = min_max * (np.floor(df['max_t' + str(window)]) - np.ceil(df['min_t' + str(window)]))\n",
    "    return df.fillna(0)\n",
    "\n",
    "# static and aggreagate batch features\n",
    "def static_features(df):\n",
    "    df['mean_b'] = df.groupby(['group'])['signal'].mean()\n",
    "    df['std_b'] = df.groupby(['group'])['signal'].std()\n",
    "    df['var_b'] = df.groupby(['group'])['signal'].var()\n",
    "    df['q25_b'] = df.groupby(['group'])['signal'].quantile(0.25)\n",
    "    df['q50_b'] = df.groupby(['group'])['signal'].quantile(0.50)\n",
    "    df['q75_b'] = df.groupby(['group'])['signal'].quantile(0.75)\n",
    "    df['min_b'] = df.groupby(['group'])['signal'].min()\n",
    "    df['max_b'] = df.groupby(['group'])['signal'].max()\n",
    "    min_max = (df['signal'] - df['min_b']) / (df['max_b'] - df['min_b'])\n",
    "    df['norm_b'] = min_max * (np.floor(df['max_b']) - np.ceil(df['min_b']))\n",
    "    return df.fillna(0)\n",
    "\n",
    "def shifted_features(df, num_shift=5):\n",
    "    steps = np.arange(1, num_shift+1, dtype=np.int32)\n",
    "    steps = np.append(steps, -steps)\n",
    "    for step in steps:\n",
    "        df['signal_shift_' + str(step)] = df['signal'].shift(step, fill_value=-2.73).astype( np.float32 )\n",
    "    return df\n",
    "\n",
    "def add_features(df):\n",
    "    df = shifted_features(df)\n",
    "    df = static_features(df)\n",
    "    df = rolling_features(df)\n",
    "    df['signal_2'] = (df['signal'] ** 2)\n",
    "    df = reduce_mem_usage(df).reset_index(drop=True)\n",
    "    sg_df = signal_features(df['signal'])\n",
    "    sg_df = reduce_mem_usage(sg_df).reset_index(drop=True)\n",
    "    return pd.concat([df, sg_df], axis=1)"
   ]
  },
  {
   "cell_type": "code",
   "execution_count": 6,
   "metadata": {
    "execution": {
     "iopub.execute_input": "2020-10-30T02:49:21.512657Z",
     "iopub.status.busy": "2020-10-30T02:49:21.512001Z",
     "iopub.status.idle": "2020-10-30T02:50:10.191316Z",
     "shell.execute_reply": "2020-10-30T02:50:10.191849Z"
    },
    "papermill": {
     "duration": 48.696458,
     "end_time": "2020-10-30T02:50:10.192057",
     "exception": false,
     "start_time": "2020-10-30T02:49:21.495599",
     "status": "completed"
    },
    "tags": []
   },
   "outputs": [
    {
     "name": "stdout",
     "output_type": "stream",
     "text": [
      "Mem. usage decreased to 424.39 Mb (69.9% reduction)\n",
      "Mem. usage decreased to 305.18 Mb (69.2% reduction)\n",
      "(5000000, 67)\n",
      "CPU times: user 39.8 s, sys: 9.41 s, total: 49.2 s\n",
      "Wall time: 48.7 s\n"
     ]
    },
    {
     "data": {
      "text/html": [
       "<div>\n",
       "<style scoped>\n",
       "    .dataframe tbody tr th:only-of-type {\n",
       "        vertical-align: middle;\n",
       "    }\n",
       "\n",
       "    .dataframe tbody tr th {\n",
       "        vertical-align: top;\n",
       "    }\n",
       "\n",
       "    .dataframe thead th {\n",
       "        text-align: right;\n",
       "    }\n",
       "</style>\n",
       "<table border=\"1\" class=\"dataframe\">\n",
       "  <thead>\n",
       "    <tr style=\"text-align: right;\">\n",
       "      <th></th>\n",
       "      <th>signal</th>\n",
       "      <th>signal_shift_1</th>\n",
       "      <th>signal_shift_2</th>\n",
       "      <th>signal_shift_3</th>\n",
       "      <th>signal_shift_4</th>\n",
       "      <th>signal_shift_5</th>\n",
       "      <th>signal_shift_-1</th>\n",
       "      <th>signal_shift_-2</th>\n",
       "      <th>signal_shift_-3</th>\n",
       "      <th>signal_shift_-4</th>\n",
       "      <th>...</th>\n",
       "      <th>highpass_lf_0.0891</th>\n",
       "      <th>highpass_ff_0.0891</th>\n",
       "      <th>highpass_lf_0.2661</th>\n",
       "      <th>highpass_ff_0.2661</th>\n",
       "      <th>highpass_lf_0.7943</th>\n",
       "      <th>highpass_ff_0.7943</th>\n",
       "      <th>ewm_mean_10</th>\n",
       "      <th>ewm_std_10</th>\n",
       "      <th>ewm_mean_100</th>\n",
       "      <th>ewm_std_100</th>\n",
       "    </tr>\n",
       "  </thead>\n",
       "  <tbody>\n",
       "    <tr>\n",
       "      <th>0</th>\n",
       "      <td>-2.759766</td>\n",
       "      <td>-2.730469</td>\n",
       "      <td>-2.730469</td>\n",
       "      <td>-2.730469</td>\n",
       "      <td>-2.730469</td>\n",
       "      <td>-2.730469</td>\n",
       "      <td>-2.855469</td>\n",
       "      <td>-2.408203</td>\n",
       "      <td>-3.140625</td>\n",
       "      <td>-3.152344</td>\n",
       "      <td>...</td>\n",
       "      <td>0.000000</td>\n",
       "      <td>0.000233</td>\n",
       "      <td>0.000000</td>\n",
       "      <td>-0.000004</td>\n",
       "      <td>0.000000</td>\n",
       "      <td>-0.000025</td>\n",
       "      <td>-0.183960</td>\n",
       "      <td>0.000000</td>\n",
       "      <td>-0.183960</td>\n",
       "      <td>0.000000</td>\n",
       "    </tr>\n",
       "    <tr>\n",
       "      <th>1</th>\n",
       "      <td>-2.855469</td>\n",
       "      <td>-2.759766</td>\n",
       "      <td>-2.730469</td>\n",
       "      <td>-2.730469</td>\n",
       "      <td>-2.730469</td>\n",
       "      <td>-2.730469</td>\n",
       "      <td>-2.408203</td>\n",
       "      <td>-3.140625</td>\n",
       "      <td>-3.152344</td>\n",
       "      <td>-2.642578</td>\n",
       "      <td>...</td>\n",
       "      <td>-0.005562</td>\n",
       "      <td>-0.005680</td>\n",
       "      <td>-0.004395</td>\n",
       "      <td>-0.006805</td>\n",
       "      <td>-0.001592</td>\n",
       "      <td>-0.005013</td>\n",
       "      <td>-0.187500</td>\n",
       "      <td>0.004490</td>\n",
       "      <td>-0.187134</td>\n",
       "      <td>0.004490</td>\n",
       "    </tr>\n",
       "    <tr>\n",
       "      <th>2</th>\n",
       "      <td>-2.408203</td>\n",
       "      <td>-2.855469</td>\n",
       "      <td>-2.759766</td>\n",
       "      <td>-2.730469</td>\n",
       "      <td>-2.730469</td>\n",
       "      <td>-2.730469</td>\n",
       "      <td>-3.140625</td>\n",
       "      <td>-3.152344</td>\n",
       "      <td>-2.642578</td>\n",
       "      <td>-2.699219</td>\n",
       "      <td>...</td>\n",
       "      <td>0.021912</td>\n",
       "      <td>0.024811</td>\n",
       "      <td>0.018936</td>\n",
       "      <td>0.024719</td>\n",
       "      <td>0.008263</td>\n",
       "      <td>0.008018</td>\n",
       "      <td>-0.176636</td>\n",
       "      <td>0.016556</td>\n",
       "      <td>-0.178101</td>\n",
       "      <td>0.015778</td>\n",
       "    </tr>\n",
       "    <tr>\n",
       "      <th>3</th>\n",
       "      <td>-3.140625</td>\n",
       "      <td>-2.408203</td>\n",
       "      <td>-2.855469</td>\n",
       "      <td>-2.759766</td>\n",
       "      <td>-2.730469</td>\n",
       "      <td>-2.730469</td>\n",
       "      <td>-3.152344</td>\n",
       "      <td>-2.642578</td>\n",
       "      <td>-2.699219</td>\n",
       "      <td>-2.593750</td>\n",
       "      <td>...</td>\n",
       "      <td>-0.026291</td>\n",
       "      <td>-0.022888</td>\n",
       "      <td>-0.026520</td>\n",
       "      <td>-0.017410</td>\n",
       "      <td>-0.016373</td>\n",
       "      <td>-0.005150</td>\n",
       "      <td>-0.187378</td>\n",
       "      <td>0.022018</td>\n",
       "      <td>-0.186157</td>\n",
       "      <td>0.020325</td>\n",
       "    </tr>\n",
       "    <tr>\n",
       "      <th>4</th>\n",
       "      <td>-3.152344</td>\n",
       "      <td>-3.140625</td>\n",
       "      <td>-2.408203</td>\n",
       "      <td>-2.855469</td>\n",
       "      <td>-2.759766</td>\n",
       "      <td>-2.730469</td>\n",
       "      <td>-2.642578</td>\n",
       "      <td>-2.699219</td>\n",
       "      <td>-2.593750</td>\n",
       "      <td>-2.667969</td>\n",
       "      <td>...</td>\n",
       "      <td>-0.020554</td>\n",
       "      <td>-0.023499</td>\n",
       "      <td>-0.010803</td>\n",
       "      <td>-0.016876</td>\n",
       "      <td>0.007942</td>\n",
       "      <td>-0.001175</td>\n",
       "      <td>-0.193970</td>\n",
       "      <td>0.021469</td>\n",
       "      <td>-0.191162</td>\n",
       "      <td>0.020645</td>\n",
       "    </tr>\n",
       "  </tbody>\n",
       "</table>\n",
       "<p>5 rows × 67 columns</p>\n",
       "</div>"
      ],
      "text/plain": [
       "     signal  signal_shift_1  signal_shift_2  signal_shift_3  signal_shift_4  \\\n",
       "0 -2.759766       -2.730469       -2.730469       -2.730469       -2.730469   \n",
       "1 -2.855469       -2.759766       -2.730469       -2.730469       -2.730469   \n",
       "2 -2.408203       -2.855469       -2.759766       -2.730469       -2.730469   \n",
       "3 -3.140625       -2.408203       -2.855469       -2.759766       -2.730469   \n",
       "4 -3.152344       -3.140625       -2.408203       -2.855469       -2.759766   \n",
       "\n",
       "   signal_shift_5  signal_shift_-1  signal_shift_-2  signal_shift_-3  \\\n",
       "0       -2.730469        -2.855469        -2.408203        -3.140625   \n",
       "1       -2.730469        -2.408203        -3.140625        -3.152344   \n",
       "2       -2.730469        -3.140625        -3.152344        -2.642578   \n",
       "3       -2.730469        -3.152344        -2.642578        -2.699219   \n",
       "4       -2.730469        -2.642578        -2.699219        -2.593750   \n",
       "\n",
       "   signal_shift_-4  ...  highpass_lf_0.0891  highpass_ff_0.0891  \\\n",
       "0        -3.152344  ...            0.000000            0.000233   \n",
       "1        -2.642578  ...           -0.005562           -0.005680   \n",
       "2        -2.699219  ...            0.021912            0.024811   \n",
       "3        -2.593750  ...           -0.026291           -0.022888   \n",
       "4        -2.667969  ...           -0.020554           -0.023499   \n",
       "\n",
       "   highpass_lf_0.2661  highpass_ff_0.2661  highpass_lf_0.7943  \\\n",
       "0            0.000000           -0.000004            0.000000   \n",
       "1           -0.004395           -0.006805           -0.001592   \n",
       "2            0.018936            0.024719            0.008263   \n",
       "3           -0.026520           -0.017410           -0.016373   \n",
       "4           -0.010803           -0.016876            0.007942   \n",
       "\n",
       "   highpass_ff_0.7943  ewm_mean_10  ewm_std_10  ewm_mean_100  ewm_std_100  \n",
       "0           -0.000025    -0.183960    0.000000     -0.183960     0.000000  \n",
       "1           -0.005013    -0.187500    0.004490     -0.187134     0.004490  \n",
       "2            0.008018    -0.176636    0.016556     -0.178101     0.015778  \n",
       "3           -0.005150    -0.187378    0.022018     -0.186157     0.020325  \n",
       "4           -0.001175    -0.193970    0.021469     -0.191162     0.020645  \n",
       "\n",
       "[5 rows x 67 columns]"
      ]
     },
     "execution_count": 6,
     "metadata": {},
     "output_type": "execute_result"
    }
   ],
   "source": [
    "%%time\n",
    "\n",
    "train_features = add_features(train)\n",
    "train_features = train_features.drop(['time', 'group', 'open_channels'], axis=1)\n",
    "print(train_features.shape)\n",
    "train_features.head()"
   ]
  },
  {
   "cell_type": "code",
   "execution_count": 7,
   "metadata": {
    "execution": {
     "iopub.execute_input": "2020-10-30T02:50:10.216736Z",
     "iopub.status.busy": "2020-10-30T02:50:10.215645Z",
     "iopub.status.idle": "2020-10-30T02:51:01.648985Z",
     "shell.execute_reply": "2020-10-30T02:51:01.647977Z"
    },
    "papermill": {
     "duration": 51.448015,
     "end_time": "2020-10-30T02:51:01.649169",
     "exception": false,
     "start_time": "2020-10-30T02:50:10.201154",
     "status": "completed"
    },
    "tags": []
   },
   "outputs": [
    {
     "name": "stdout",
     "output_type": "stream",
     "text": [
      "CPU times: user 49.7 s, sys: 1.69 s, total: 51.4 s\n",
      "Wall time: 51.4 s\n"
     ]
    },
    {
     "data": {
      "text/plain": [
       "(67, 67)"
      ]
     },
     "execution_count": 7,
     "metadata": {},
     "output_type": "execute_result"
    }
   ],
   "source": [
    "%%time\n",
    "\n",
    "corr_mat = train_features.corr()\n",
    "corr_mat.shape"
   ]
  },
  {
   "cell_type": "code",
   "execution_count": 8,
   "metadata": {
    "execution": {
     "iopub.execute_input": "2020-10-30T02:51:01.684655Z",
     "iopub.status.busy": "2020-10-30T02:51:01.683668Z",
     "iopub.status.idle": "2020-10-30T02:51:01.685605Z",
     "shell.execute_reply": "2020-10-30T02:51:01.686121Z"
    },
    "papermill": {
     "duration": 0.026865,
     "end_time": "2020-10-30T02:51:01.686280",
     "exception": false,
     "start_time": "2020-10-30T02:51:01.659415",
     "status": "completed"
    },
    "tags": []
   },
   "outputs": [],
   "source": [
    "def display_correlation_matrix(corr_mat, feature_cols):\n",
    "    plt.figure(figsize=(16,14))\n",
    "    ax = sns.heatmap(corr_mat, vmin=-1.5, vmax=1.5, center=0, cmap=\"RdBu\")\n",
    "    ax.set_facecolor(\"gold\")\n",
    "    ax.collections[0].colorbar.ax.set_ylim(-1.0, 1.0)\n",
    "    # set/rotate ticks\n",
    "    ax.set_xticks(range(len(feature_cols)))\n",
    "    ax.set_xticklabels(feature_cols, fontdict={'fontsize': 8})\n",
    "    ax.set_yticks(range(len(feature_cols)))\n",
    "    ax.set_yticklabels(feature_cols, fontdict={'fontsize': 8})\n",
    "    plt.show()"
   ]
  },
  {
   "cell_type": "code",
   "execution_count": 9,
   "metadata": {
    "execution": {
     "iopub.execute_input": "2020-10-30T02:51:01.712287Z",
     "iopub.status.busy": "2020-10-30T02:51:01.711563Z",
     "iopub.status.idle": "2020-10-30T02:51:03.445312Z",
     "shell.execute_reply": "2020-10-30T02:51:03.445833Z"
    },
    "papermill": {
     "duration": 1.749387,
     "end_time": "2020-10-30T02:51:03.446014",
     "exception": false,
     "start_time": "2020-10-30T02:51:01.696627",
     "status": "completed"
    },
    "tags": []
   },
   "outputs": [
    {
     "data": {
      "image/png": "[encoded data removed]",
      "text/plain": [
       "<Figure size 1152x1008 with 2 Axes>"
      ]
     },
     "metadata": {
      "needs_background": "light"
     },
     "output_type": "display_data"
    }
   ],
   "source": [
    "display_correlation_matrix(corr_mat, train_features.columns)"
   ]
  },
  {
   "cell_type": "code",
   "execution_count": null,
   "metadata": {
    "papermill": {
     "duration": 0.011935,
     "end_time": "2020-10-30T02:51:03.470552",
     "exception": false,
     "start_time": "2020-10-30T02:51:03.458617",
     "status": "completed"
    },
    "tags": []
   },
   "outputs": [],
   "source": []
  }
 ],
 "metadata": {
  "kernelspec": {
   "display_name": "Python 3",
   "language": "python",
   "name": "python3"
  },
  "language_info": {
   "codemirror_mode": {
    "name": "ipython",
    "version": 3
   },
   "file_extension": ".py",
   "mimetype": "text/x-python",
   "name": "python",
   "nbconvert_exporter": "python",
   "pygments_lexer": "ipython3",
   "version": "3.7.6"
  },
  "papermill": {
   "duration": 111.009822,
   "end_time": "2020-10-30T02:51:04.575316",
   "environment_variables": {},
   "exception": null,
   "input_path": "__notebook__.ipynb",
   "output_path": "__notebook__.ipynb",
   "parameters": {},
   "start_time": "2020-10-30T02:49:13.565494",
   "version": "2.1.0"
  }
 },
 "nbformat": 4,
 "nbformat_minor": 4
}
