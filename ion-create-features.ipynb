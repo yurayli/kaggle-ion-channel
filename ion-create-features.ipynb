{
 "cells": [
  {
   "cell_type": "code",
   "execution_count": 1,
   "metadata": {
    "_cell_guid": "b1076dfc-b9ad-4769-8c92-a6c4dae69d19",
    "_uuid": "8f2839f25d086af736a60e9eeb907d3b93b6e0e5",
    "execution": {
     "iopub.execute_input": "2020-11-02T03:18:48.899676Z",
     "iopub.status.busy": "2020-11-02T03:18:48.898844Z",
     "iopub.status.idle": "2020-11-02T03:18:50.057924Z",
     "shell.execute_reply": "2020-11-02T03:18:50.057025Z"
    },
    "papermill": {
     "duration": 1.176423,
     "end_time": "2020-11-02T03:18:50.058066",
     "exception": false,
     "start_time": "2020-11-02T03:18:48.881643",
     "status": "completed"
    },
    "tags": []
   },
   "outputs": [],
   "source": [
    "import os, math\n",
    "import numpy as np\n",
    "import pandas as pd\n",
    "from scipy import signal\n",
    "\n",
    "import matplotlib.pyplot as plt\n",
    "import seaborn as sns"
   ]
  },
  {
   "cell_type": "code",
   "execution_count": 2,
   "metadata": {
    "execution": {
     "iopub.execute_input": "2020-11-02T03:18:50.093576Z",
     "iopub.status.busy": "2020-11-02T03:18:50.092730Z",
     "iopub.status.idle": "2020-11-02T03:18:54.228974Z",
     "shell.execute_reply": "2020-11-02T03:18:54.229831Z"
    },
    "papermill": {
     "duration": 4.161406,
     "end_time": "2020-11-02T03:18:54.230084",
     "exception": false,
     "start_time": "2020-11-02T03:18:50.068678",
     "status": "completed"
    },
    "tags": []
   },
   "outputs": [],
   "source": [
    "train = pd.read_csv(\"../input/ion-clean/train_full_clean.csv\")\n",
    "test = pd.read_csv(\"../input/ion-clean/test_full_clean.csv\")\n",
    "\n",
    "train[\"group\"] = np.arange(train.shape[0]) // 500_000"
   ]
  },
  {
   "cell_type": "code",
   "execution_count": 3,
   "metadata": {
    "execution": {
     "iopub.execute_input": "2020-11-02T03:18:54.286234Z",
     "iopub.status.busy": "2020-11-02T03:18:54.285161Z",
     "iopub.status.idle": "2020-11-02T03:18:54.288075Z",
     "shell.execute_reply": "2020-11-02T03:18:54.287472Z"
    },
    "papermill": {
     "duration": 0.043966,
     "end_time": "2020-11-02T03:18:54.288209",
     "exception": false,
     "start_time": "2020-11-02T03:18:54.244243",
     "status": "completed"
    },
    "tags": []
   },
   "outputs": [],
   "source": [
    "def reduce_mem_usage(df, verbose=True):\n",
    "    numerics = ['int16', 'int32', 'int64', 'float16', 'float32', 'float64']\n",
    "    start_mem = df.memory_usage().sum() / 1024**2    \n",
    "    for col in df.columns:\n",
    "        if col!='open_channels':\n",
    "            col_type = df[col].dtypes\n",
    "            if col_type in numerics:\n",
    "                c_min = df[col].min()\n",
    "                c_max = df[col].max()\n",
    "                if str(col_type)[:3] == 'int':\n",
    "                    if c_min > np.iinfo(np.int8).min and c_max < np.iinfo(np.int8).max:\n",
    "                        df[col] = df[col].astype(np.int8)\n",
    "                    elif c_min > np.iinfo(np.int16).min and c_max < np.iinfo(np.int16).max:\n",
    "                        df[col] = df[col].astype(np.int16)\n",
    "                    elif c_min > np.iinfo(np.int32).min and c_max < np.iinfo(np.int32).max:\n",
    "                        df[col] = df[col].astype(np.int32)\n",
    "                    elif c_min > np.iinfo(np.int64).min and c_max < np.iinfo(np.int64).max:\n",
    "                        df[col] = df[col].astype(np.int64)  \n",
    "                else:\n",
    "                    if c_min > np.finfo(np.float16).min and c_max < np.finfo(np.float16).max:\n",
    "                        df[col] = df[col].astype(np.float16)\n",
    "                    elif c_min > np.finfo(np.float32).min and c_max < np.finfo(np.float32).max:\n",
    "                        df[col] = df[col].astype(np.float32)\n",
    "                    else:\n",
    "                        df[col] = df[col].astype(np.float64)    \n",
    "    end_mem = df.memory_usage().sum() / 1024**2\n",
    "    if verbose: print('Mem. usage decreased to {:5.2f} Mb ({:.1f}% reduction)'.format(end_mem, 100 * (start_mem - end_mem) / start_mem))\n",
    "    return df"
   ]
  },
  {
   "cell_type": "code",
   "execution_count": 4,
   "metadata": {
    "execution": {
     "iopub.execute_input": "2020-11-02T03:18:54.338252Z",
     "iopub.status.busy": "2020-11-02T03:18:54.333118Z",
     "iopub.status.idle": "2020-11-02T03:18:54.345670Z",
     "shell.execute_reply": "2020-11-02T03:18:54.344931Z"
    },
    "papermill": {
     "duration": 0.047635,
     "end_time": "2020-11-02T03:18:54.345793",
     "exception": false,
     "start_time": "2020-11-02T03:18:54.298158",
     "status": "completed"
    },
    "tags": []
   },
   "outputs": [],
   "source": [
    "# signal processing features\n",
    "def calc_gradients(s, n_grads=4):\n",
    "    '''\n",
    "    Calculate gradients for a pandas series. Returns the same number of samples\n",
    "    '''\n",
    "    grads = pd.DataFrame()\n",
    "    \n",
    "    g = s.values\n",
    "    for i in range(n_grads):\n",
    "        g = np.gradient(g)\n",
    "        grads['grad_' + str(i+1)] = g\n",
    "        \n",
    "    return grads\n",
    "\n",
    "def calc_low_pass(s, n_filts=5):\n",
    "    '''\n",
    "    Applies low pass filters to the signal. Left delayed and no delayed\n",
    "    '''\n",
    "    wns = np.logspace(-2, -0.3, n_filts)\n",
    "    \n",
    "    low_pass = pd.DataFrame()\n",
    "    x = s.values\n",
    "    for wn in wns:\n",
    "        b, a = signal.butter(1, Wn=wn, btype='low')\n",
    "        zi = signal.lfilter_zi(b, a)\n",
    "        low_pass['lowpass_lf_' + str('%.4f' %wn)] = signal.lfilter(b, a, x, zi=zi*x[0])[0]\n",
    "        low_pass['lowpass_ff_' + str('%.4f' %wn)] = signal.filtfilt(b, a, x)\n",
    "        \n",
    "    return low_pass\n",
    "\n",
    "def calc_high_pass(s, n_filts=5):\n",
    "    '''\n",
    "    Applies high pass filters to the signal. Left delayed and no delayed\n",
    "    '''\n",
    "    wns = np.logspace(-2, -0.1, n_filts)\n",
    "    \n",
    "    high_pass = pd.DataFrame()\n",
    "    x = s.values\n",
    "    for wn in wns:\n",
    "        b, a = signal.butter(1, Wn=wn, btype='high')\n",
    "        zi = signal.lfilter_zi(b, a)\n",
    "        high_pass['highpass_lf_' + str('%.4f' %wn)] = signal.lfilter(b, a, x, zi=zi*x[0])[0]\n",
    "        high_pass['highpass_ff_' + str('%.4f' %wn)] = signal.filtfilt(b, a, x)\n",
    "        \n",
    "    return high_pass\n",
    "\n",
    "def calc_ewm(s, windows=[10, 100]):\n",
    "    '''\n",
    "    Calculates exponential weighted functions\n",
    "    '''\n",
    "    ewm = pd.DataFrame()\n",
    "    for w in windows:\n",
    "        ewm['ewm_mean_' + str(w)] = s.ewm(span=w, min_periods=1).mean()\n",
    "        ewm['ewm_std_' + str(w)] = s.ewm(span=w, min_periods=1).std()\n",
    "        \n",
    "    # add zeros when na values (std)\n",
    "    ewm = ewm.fillna(value=0)\n",
    "        \n",
    "    return ewm\n",
    "\n",
    "def calc_signal_features(s):\n",
    "    '''\n",
    "    All calculations together\n",
    "    '''\n",
    "#     gradients = calc_gradients(s)\n",
    "    low_pass = calc_low_pass(s)\n",
    "    high_pass = calc_high_pass(s)\n",
    "    ewm = calc_ewm(s)\n",
    "    \n",
    "    return pd.concat([s, low_pass, high_pass, ewm], axis=1)\n",
    "\n",
    "def signal_features(s, signal_size=500000):\n",
    "    '''\n",
    "    Divide the signal in bags of \"signal_size\".\n",
    "    Normalize the data dividing it by 15.0\n",
    "    '''\n",
    "    # normalize\n",
    "    s = s / 15.0\n",
    "    \n",
    "    ls = []\n",
    "    for i in range(s.shape[0]//signal_size):\n",
    "        sig = s[i*signal_size:(i+1)*signal_size].copy().reset_index(drop=True)\n",
    "        sig_featured = calc_signal_features(sig)\n",
    "        ls.append(sig_featured)\n",
    "    \n",
    "    ls = pd.concat(ls, axis=0)\n",
    "    return ls[ls.columns[1:]]"
   ]
  },
  {
   "cell_type": "code",
   "execution_count": 5,
   "metadata": {
    "execution": {
     "iopub.execute_input": "2020-11-02T03:18:54.385767Z",
     "iopub.status.busy": "2020-11-02T03:18:54.380619Z",
     "iopub.status.idle": "2020-11-02T03:18:54.413284Z",
     "shell.execute_reply": "2020-11-02T03:18:54.412458Z"
    },
    "papermill": {
     "duration": 0.05762,
     "end_time": "2020-11-02T03:18:54.413442",
     "exception": false,
     "start_time": "2020-11-02T03:18:54.355822",
     "status": "completed"
    },
    "tags": []
   },
   "outputs": [],
   "source": [
    "# rolling and aggreagate batch features\n",
    "def rolling_features(df):\n",
    "    for window in [10, 100]:\n",
    "        # rolling\n",
    "        df['mean_t' + str(window)] = df.groupby(['group'])['signal'].transform(lambda x: x.rolling(window).mean())\n",
    "        df['std_t' + str(window)] = df.groupby(['group'])['signal'].transform(lambda x: x.rolling(window).std())\n",
    "        df['var_t' + str(window)] = df.groupby(['group'])['signal'].transform(lambda x: x.rolling(window).var())\n",
    "        df['q25_t' + str(window)] = df.groupby(['group'])['signal'].transform(lambda x: x.rolling(window).quantile(0.25))\n",
    "        df['q50_t' + str(window)] = df.groupby(['group'])['signal'].transform(lambda x: x.rolling(window).quantile(0.50))\n",
    "        df['q75_t' + str(window)] = df.groupby(['group'])['signal'].transform(lambda x: x.rolling(window).quantile(0.75))\n",
    "        df['min_t' + str(window)] = df.groupby(['group'])['signal'].transform(lambda x: x.rolling(window).min())\n",
    "        df['max_t' + str(window)] = df.groupby(['group'])['signal'].transform(lambda x: x.rolling(window).max())\n",
    "        min_max = (df['signal'] - df['min_t' + str(window)]) / (df['max_t' + str(window)] - df['min_t' + str(window)])\n",
    "        df['norm_t' + str(window)] = min_max * (np.floor(df['max_t' + str(window)]) - np.ceil(df['min_t' + str(window)]))\n",
    "    return df.fillna(0)\n",
    "\n",
    "# static and aggreagate batch features\n",
    "def static_features(df):\n",
    "    df['mean_b'] = df.groupby(['group'])['signal'].mean()\n",
    "    df['std_b'] = df.groupby(['group'])['signal'].std()\n",
    "    df['var_b'] = df.groupby(['group'])['signal'].var()\n",
    "    df['q25_b'] = df.groupby(['group'])['signal'].quantile(0.25)\n",
    "    df['q50_b'] = df.groupby(['group'])['signal'].quantile(0.50)\n",
    "    df['q75_b'] = df.groupby(['group'])['signal'].quantile(0.75)\n",
    "    df['min_b'] = df.groupby(['group'])['signal'].min()\n",
    "    df['max_b'] = df.groupby(['group'])['signal'].max()\n",
    "    min_max = (df['signal'] - df['min_b']) / (df['max_b'] - df['min_b'])\n",
    "    df['norm_b'] = min_max * (np.floor(df['max_b']) - np.ceil(df['min_b']))\n",
    "    return df.fillna(0)\n",
    "\n",
    "def shifted_features(df, num_shift=5):\n",
    "    steps = np.arange(1, num_shift+1, dtype=np.int32)\n",
    "    steps = np.append(steps, -steps)\n",
    "    for step in steps:\n",
    "        df['signal_shift_' + str(step)] = df['signal'].shift(step, fill_value=0).astype( np.float32 )\n",
    "    return df\n",
    "\n",
    "def add_features(df):\n",
    "    df = shifted_features(df)\n",
    "#     df = static_features(df)\n",
    "    df = rolling_features(df)\n",
    "    df['signal_2'] = (df['signal'] ** 2)\n",
    "    df = reduce_mem_usage(df).reset_index(drop=True)\n",
    "    sg_df = signal_features(df['signal'])\n",
    "    sg_df = reduce_mem_usage(sg_df).reset_index(drop=True)\n",
    "    return pd.concat([df, sg_df], axis=1)"
   ]
  },
  {
   "cell_type": "code",
   "execution_count": 6,
   "metadata": {
    "execution": {
     "iopub.execute_input": "2020-11-02T03:18:54.445714Z",
     "iopub.status.busy": "2020-11-02T03:18:54.444881Z",
     "iopub.status.idle": "2020-11-02T03:19:36.937581Z",
     "shell.execute_reply": "2020-11-02T03:19:36.936815Z"
    },
    "papermill": {
     "duration": 42.514257,
     "end_time": "2020-11-02T03:19:36.937711",
     "exception": false,
     "start_time": "2020-11-02T03:18:54.423454",
     "status": "completed"
    },
    "tags": []
   },
   "outputs": [
    {
     "name": "stdout",
     "output_type": "stream",
     "text": [
      "Mem. usage decreased to 338.55 Mb (68.3% reduction)\n",
      "Mem. usage decreased to 267.03 Mb (72.0% reduction)\n",
      "(5000000, 54)\n",
      "CPU times: user 34.6 s, sys: 8.22 s, total: 42.9 s\n",
      "Wall time: 42.5 s\n"
     ]
    },
    {
     "data": {
      "text/html": [
       "<div>\n",
       "<style scoped>\n",
       "    .dataframe tbody tr th:only-of-type {\n",
       "        vertical-align: middle;\n",
       "    }\n",
       "\n",
       "    .dataframe tbody tr th {\n",
       "        vertical-align: top;\n",
       "    }\n",
       "\n",
       "    .dataframe thead th {\n",
       "        text-align: right;\n",
       "    }\n",
       "</style>\n",
       "<table border=\"1\" class=\"dataframe\">\n",
       "  <thead>\n",
       "    <tr style=\"text-align: right;\">\n",
       "      <th></th>\n",
       "      <th>signal</th>\n",
       "      <th>signal_shift_1</th>\n",
       "      <th>signal_shift_2</th>\n",
       "      <th>signal_shift_3</th>\n",
       "      <th>signal_shift_4</th>\n",
       "      <th>signal_shift_5</th>\n",
       "      <th>signal_shift_-1</th>\n",
       "      <th>signal_shift_-2</th>\n",
       "      <th>signal_shift_-3</th>\n",
       "      <th>signal_shift_-4</th>\n",
       "      <th>...</th>\n",
       "      <th>highpass_lf_0.0891</th>\n",
       "      <th>highpass_ff_0.0891</th>\n",
       "      <th>highpass_lf_0.2661</th>\n",
       "      <th>highpass_ff_0.2661</th>\n",
       "      <th>highpass_lf_0.7943</th>\n",
       "      <th>highpass_ff_0.7943</th>\n",
       "      <th>ewm_mean_10</th>\n",
       "      <th>ewm_std_10</th>\n",
       "      <th>ewm_mean_100</th>\n",
       "      <th>ewm_std_100</th>\n",
       "    </tr>\n",
       "  </thead>\n",
       "  <tbody>\n",
       "    <tr>\n",
       "      <th>0</th>\n",
       "      <td>-0.016342</td>\n",
       "      <td>0.000000</td>\n",
       "      <td>0.000000</td>\n",
       "      <td>0.000000</td>\n",
       "      <td>0.000000</td>\n",
       "      <td>0.0</td>\n",
       "      <td>-0.093018</td>\n",
       "      <td>0.265625</td>\n",
       "      <td>-0.321045</td>\n",
       "      <td>-0.330811</td>\n",
       "      <td>...</td>\n",
       "      <td>0.000000</td>\n",
       "      <td>0.000190</td>\n",
       "      <td>0.000000</td>\n",
       "      <td>-0.000003</td>\n",
       "      <td>0.000000</td>\n",
       "      <td>-0.000020</td>\n",
       "      <td>-0.001089</td>\n",
       "      <td>0.000000</td>\n",
       "      <td>-0.001089</td>\n",
       "      <td>0.000000</td>\n",
       "    </tr>\n",
       "    <tr>\n",
       "      <th>1</th>\n",
       "      <td>-0.093018</td>\n",
       "      <td>-0.016342</td>\n",
       "      <td>0.000000</td>\n",
       "      <td>0.000000</td>\n",
       "      <td>0.000000</td>\n",
       "      <td>0.0</td>\n",
       "      <td>0.265625</td>\n",
       "      <td>-0.321045</td>\n",
       "      <td>-0.330811</td>\n",
       "      <td>0.077576</td>\n",
       "      <td>...</td>\n",
       "      <td>-0.004482</td>\n",
       "      <td>-0.004574</td>\n",
       "      <td>-0.003542</td>\n",
       "      <td>-0.005482</td>\n",
       "      <td>-0.001283</td>\n",
       "      <td>-0.004025</td>\n",
       "      <td>-0.003902</td>\n",
       "      <td>0.003616</td>\n",
       "      <td>-0.003672</td>\n",
       "      <td>0.003616</td>\n",
       "    </tr>\n",
       "    <tr>\n",
       "      <th>2</th>\n",
       "      <td>0.265625</td>\n",
       "      <td>-0.093018</td>\n",
       "      <td>-0.016342</td>\n",
       "      <td>0.000000</td>\n",
       "      <td>0.000000</td>\n",
       "      <td>0.0</td>\n",
       "      <td>-0.321045</td>\n",
       "      <td>-0.330811</td>\n",
       "      <td>0.077576</td>\n",
       "      <td>0.031433</td>\n",
       "      <td>...</td>\n",
       "      <td>0.017593</td>\n",
       "      <td>0.019913</td>\n",
       "      <td>0.015198</td>\n",
       "      <td>0.019821</td>\n",
       "      <td>0.006638</td>\n",
       "      <td>0.006435</td>\n",
       "      <td>0.004787</td>\n",
       "      <td>0.013290</td>\n",
       "      <td>0.003601</td>\n",
       "      <td>0.012665</td>\n",
       "    </tr>\n",
       "    <tr>\n",
       "      <th>3</th>\n",
       "      <td>-0.321045</td>\n",
       "      <td>0.265625</td>\n",
       "      <td>-0.093018</td>\n",
       "      <td>-0.016342</td>\n",
       "      <td>0.000000</td>\n",
       "      <td>0.0</td>\n",
       "      <td>-0.330811</td>\n",
       "      <td>0.077576</td>\n",
       "      <td>0.031433</td>\n",
       "      <td>0.115906</td>\n",
       "      <td>...</td>\n",
       "      <td>-0.021042</td>\n",
       "      <td>-0.018311</td>\n",
       "      <td>-0.021240</td>\n",
       "      <td>-0.013947</td>\n",
       "      <td>-0.013123</td>\n",
       "      <td>-0.004135</td>\n",
       "      <td>-0.003841</td>\n",
       "      <td>0.017639</td>\n",
       "      <td>-0.002840</td>\n",
       "      <td>0.016296</td>\n",
       "    </tr>\n",
       "    <tr>\n",
       "      <th>4</th>\n",
       "      <td>-0.330811</td>\n",
       "      <td>-0.321045</td>\n",
       "      <td>0.265625</td>\n",
       "      <td>-0.093018</td>\n",
       "      <td>-0.016342</td>\n",
       "      <td>0.0</td>\n",
       "      <td>0.077576</td>\n",
       "      <td>0.031433</td>\n",
       "      <td>0.115906</td>\n",
       "      <td>0.055908</td>\n",
       "      <td>...</td>\n",
       "      <td>-0.016403</td>\n",
       "      <td>-0.018753</td>\n",
       "      <td>-0.008621</td>\n",
       "      <td>-0.013481</td>\n",
       "      <td>0.006378</td>\n",
       "      <td>-0.000932</td>\n",
       "      <td>-0.009071</td>\n",
       "      <td>0.017181</td>\n",
       "      <td>-0.006836</td>\n",
       "      <td>0.016525</td>\n",
       "    </tr>\n",
       "  </tbody>\n",
       "</table>\n",
       "<p>5 rows × 54 columns</p>\n",
       "</div>"
      ],
      "text/plain": [
       "     signal  signal_shift_1  signal_shift_2  signal_shift_3  signal_shift_4  \\\n",
       "0 -0.016342        0.000000        0.000000        0.000000        0.000000   \n",
       "1 -0.093018       -0.016342        0.000000        0.000000        0.000000   \n",
       "2  0.265625       -0.093018       -0.016342        0.000000        0.000000   \n",
       "3 -0.321045        0.265625       -0.093018       -0.016342        0.000000   \n",
       "4 -0.330811       -0.321045        0.265625       -0.093018       -0.016342   \n",
       "\n",
       "   signal_shift_5  signal_shift_-1  signal_shift_-2  signal_shift_-3  \\\n",
       "0             0.0        -0.093018         0.265625        -0.321045   \n",
       "1             0.0         0.265625        -0.321045        -0.330811   \n",
       "2             0.0        -0.321045        -0.330811         0.077576   \n",
       "3             0.0        -0.330811         0.077576         0.031433   \n",
       "4             0.0         0.077576         0.031433         0.115906   \n",
       "\n",
       "   signal_shift_-4  ...  highpass_lf_0.0891  highpass_ff_0.0891  \\\n",
       "0        -0.330811  ...            0.000000            0.000190   \n",
       "1         0.077576  ...           -0.004482           -0.004574   \n",
       "2         0.031433  ...            0.017593            0.019913   \n",
       "3         0.115906  ...           -0.021042           -0.018311   \n",
       "4         0.055908  ...           -0.016403           -0.018753   \n",
       "\n",
       "   highpass_lf_0.2661  highpass_ff_0.2661  highpass_lf_0.7943  \\\n",
       "0            0.000000           -0.000003            0.000000   \n",
       "1           -0.003542           -0.005482           -0.001283   \n",
       "2            0.015198            0.019821            0.006638   \n",
       "3           -0.021240           -0.013947           -0.013123   \n",
       "4           -0.008621           -0.013481            0.006378   \n",
       "\n",
       "   highpass_ff_0.7943  ewm_mean_10  ewm_std_10  ewm_mean_100  ewm_std_100  \n",
       "0           -0.000020    -0.001089    0.000000     -0.001089     0.000000  \n",
       "1           -0.004025    -0.003902    0.003616     -0.003672     0.003616  \n",
       "2            0.006435     0.004787    0.013290      0.003601     0.012665  \n",
       "3           -0.004135    -0.003841    0.017639     -0.002840     0.016296  \n",
       "4           -0.000932    -0.009071    0.017181     -0.006836     0.016525  \n",
       "\n",
       "[5 rows x 54 columns]"
      ]
     },
     "execution_count": 6,
     "metadata": {},
     "output_type": "execute_result"
    }
   ],
   "source": [
    "%%time\n",
    "\n",
    "train_features = add_features(train)\n",
    "train_features = train_features.drop(['time', 'group', 'open_channels'], axis=1)\n",
    "print(train_features.shape)\n",
    "train_features.head()"
   ]
  },
  {
   "cell_type": "code",
   "execution_count": 7,
   "metadata": {
    "execution": {
     "iopub.execute_input": "2020-11-02T03:19:36.968712Z",
     "iopub.status.busy": "2020-11-02T03:19:36.967899Z",
     "iopub.status.idle": "2020-11-02T03:20:13.849101Z",
     "shell.execute_reply": "2020-11-02T03:20:13.848471Z"
    },
    "papermill": {
     "duration": 36.899088,
     "end_time": "2020-11-02T03:20:13.849223",
     "exception": false,
     "start_time": "2020-11-02T03:19:36.950135",
     "status": "completed"
    },
    "tags": []
   },
   "outputs": [
    {
     "name": "stdout",
     "output_type": "stream",
     "text": [
      "CPU times: user 35.3 s, sys: 1.47 s, total: 36.8 s\n",
      "Wall time: 36.9 s\n"
     ]
    },
    {
     "data": {
      "text/plain": [
       "(54, 54)"
      ]
     },
     "execution_count": 7,
     "metadata": {},
     "output_type": "execute_result"
    }
   ],
   "source": [
    "%%time\n",
    "\n",
    "corr_mat = train_features.corr()\n",
    "corr_mat.shape"
   ]
  },
  {
   "cell_type": "code",
   "execution_count": 8,
   "metadata": {
    "execution": {
     "iopub.execute_input": "2020-11-02T03:20:13.887278Z",
     "iopub.status.busy": "2020-11-02T03:20:13.886120Z",
     "iopub.status.idle": "2020-11-02T03:20:13.889585Z",
     "shell.execute_reply": "2020-11-02T03:20:13.888828Z"
    },
    "papermill": {
     "duration": 0.027143,
     "end_time": "2020-11-02T03:20:13.889710",
     "exception": false,
     "start_time": "2020-11-02T03:20:13.862567",
     "status": "completed"
    },
    "tags": []
   },
   "outputs": [],
   "source": [
    "def display_correlation_matrix(corr_mat, feature_cols):\n",
    "    plt.figure(figsize=(16,14))\n",
    "    ax = sns.heatmap(corr_mat, vmin=-1.5, vmax=1.5, center=0, cmap=\"RdBu\")\n",
    "    ax.set_facecolor(\"gold\")\n",
    "    ax.collections[0].colorbar.ax.set_ylim(-1.0, 1.0)\n",
    "    # set/rotate ticks\n",
    "    ax.set_xticks(range(len(feature_cols)))\n",
    "    ax.set_xticklabels(feature_cols, fontdict={'fontsize': 8})\n",
    "    ax.set_yticks(range(len(feature_cols)))\n",
    "    ax.set_yticklabels(feature_cols, fontdict={'fontsize': 8})\n",
    "    plt.show()"
   ]
  },
  {
   "cell_type": "code",
   "execution_count": 9,
   "metadata": {
    "execution": {
     "iopub.execute_input": "2020-11-02T03:20:13.922143Z",
     "iopub.status.busy": "2020-11-02T03:20:13.921364Z",
     "iopub.status.idle": "2020-11-02T03:20:15.604842Z",
     "shell.execute_reply": "2020-11-02T03:20:15.605450Z"
    },
    "papermill": {
     "duration": 1.702501,
     "end_time": "2020-11-02T03:20:15.605610",
     "exception": false,
     "start_time": "2020-11-02T03:20:13.903109",
     "status": "completed"
    },
    "tags": []
   },
   "outputs": [
    {
     "data": {
      "image/png": "[encoded data removed]",
      "text/plain": [
       "<Figure size 1152x1008 with 2 Axes>"
      ]
     },
     "metadata": {
      "needs_background": "light"
     },
     "output_type": "display_data"
    }
   ],
   "source": [
    "display_correlation_matrix(corr_mat, train_features.columns)"
   ]
  },
  {
   "cell_type": "code",
   "execution_count": null,
   "metadata": {
    "papermill": {
     "duration": 0.015854,
     "end_time": "2020-11-02T03:20:15.637794",
     "exception": false,
     "start_time": "2020-11-02T03:20:15.621940",
     "status": "completed"
    },
    "tags": []
   },
   "outputs": [],
   "source": []
  }
 ],
 "metadata": {
  "kernelspec": {
   "display_name": "Python 3",
   "language": "python",
   "name": "python3"
  },
  "language_info": {
   "codemirror_mode": {
    "name": "ipython",
    "version": 3
   },
   "file_extension": ".py",
   "mimetype": "text/x-python",
   "name": "python",
   "nbconvert_exporter": "python",
   "pygments_lexer": "ipython3",
   "version": "3.7.6"
  },
  "papermill": {
   "duration": 91.875343,
   "end_time": "2020-11-02T03:20:15.762083",
   "environment_variables": {},
   "exception": null,
   "input_path": "__notebook__.ipynb",
   "output_path": "__notebook__.ipynb",
   "parameters": {},
   "start_time": "2020-11-02T03:18:43.886740",
   "version": "2.1.0"
  }
 },
 "nbformat": 4,
 "nbformat_minor": 4
}
