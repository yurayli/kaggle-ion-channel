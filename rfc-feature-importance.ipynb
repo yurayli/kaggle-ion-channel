{
 "cells": [
  {
   "cell_type": "code",
   "execution_count": 1,
   "metadata": {
    "_cell_guid": "b1076dfc-b9ad-4769-8c92-a6c4dae69d19",
    "_uuid": "8f2839f25d086af736a60e9eeb907d3b93b6e0e5",
    "execution": {
     "iopub.execute_input": "2020-11-02T03:05:01.150690Z",
     "iopub.status.busy": "2020-11-02T03:05:01.149966Z",
     "iopub.status.idle": "2020-11-02T03:05:02.390006Z",
     "shell.execute_reply": "2020-11-02T03:05:02.389299Z"
    },
    "papermill": {
     "duration": 1.255204,
     "end_time": "2020-11-02T03:05:02.390120",
     "exception": false,
     "start_time": "2020-11-02T03:05:01.134916",
     "status": "completed"
    },
    "tags": []
   },
   "outputs": [],
   "source": [
    "import os, math\n",
    "import numpy as np\n",
    "import pandas as pd\n",
    "from scipy import signal\n",
    "\n",
    "from sklearn.ensemble import RandomForestClassifier\n",
    "from sklearn.model_selection import train_test_split, KFold, StratifiedKFold\n",
    "from sklearn.metrics import f1_score\n",
    "from sklearn.utils import shuffle\n",
    "\n",
    "import matplotlib.pyplot as plt\n",
    "import seaborn as sns"
   ]
  },
  {
   "cell_type": "code",
   "execution_count": 2,
   "metadata": {
    "execution": {
     "iopub.execute_input": "2020-11-02T03:05:02.416054Z",
     "iopub.status.busy": "2020-11-02T03:05:02.415091Z",
     "iopub.status.idle": "2020-11-02T03:05:05.422819Z",
     "shell.execute_reply": "2020-11-02T03:05:05.422123Z"
    },
    "papermill": {
     "duration": 3.023966,
     "end_time": "2020-11-02T03:05:05.422934",
     "exception": false,
     "start_time": "2020-11-02T03:05:02.398968",
     "status": "completed"
    },
    "tags": []
   },
   "outputs": [],
   "source": [
    "train = pd.read_csv(\"../input/ion-clean/train_full_clean.csv\")\n",
    "test = pd.read_csv(\"../input/ion-clean/test_full_clean.csv\")\n",
    "sub = pd.read_csv(\"../input/liverpool-ion-switching/sample_submission.csv\")\n",
    "\n",
    "train[\"group\"] = np.arange(train.shape[0]) // 500_000\n",
    "test[\"group\"] = np.arange(test.shape[0]) // 100_000"
   ]
  },
  {
   "cell_type": "code",
   "execution_count": 3,
   "metadata": {
    "execution": {
     "iopub.execute_input": "2020-11-02T03:05:05.456706Z",
     "iopub.status.busy": "2020-11-02T03:05:05.455919Z",
     "iopub.status.idle": "2020-11-02T03:05:05.459368Z",
     "shell.execute_reply": "2020-11-02T03:05:05.458757Z"
    },
    "papermill": {
     "duration": 0.028176,
     "end_time": "2020-11-02T03:05:05.459478",
     "exception": false,
     "start_time": "2020-11-02T03:05:05.431302",
     "status": "completed"
    },
    "tags": []
   },
   "outputs": [],
   "source": [
    "# reduce df occupied memory\n",
    "\n",
    "def reduce_mem_usage(df, verbose=True):\n",
    "    numerics = ['int16', 'int32', 'int64', 'float16', 'float32', 'float64']\n",
    "    start_mem = df.memory_usage().sum() / 1024**2    \n",
    "    for col in df.columns:\n",
    "        if col!='open_channels':\n",
    "            col_type = df[col].dtypes\n",
    "            if col_type in numerics:\n",
    "                c_min = df[col].min()\n",
    "                c_max = df[col].max()\n",
    "                if str(col_type)[:3] == 'int':\n",
    "                    if c_min > np.iinfo(np.int8).min and c_max < np.iinfo(np.int8).max:\n",
    "                        df[col] = df[col].astype(np.int8)\n",
    "                    elif c_min > np.iinfo(np.int16).min and c_max < np.iinfo(np.int16).max:\n",
    "                        df[col] = df[col].astype(np.int16)\n",
    "                    elif c_min > np.iinfo(np.int32).min and c_max < np.iinfo(np.int32).max:\n",
    "                        df[col] = df[col].astype(np.int32)\n",
    "                    elif c_min > np.iinfo(np.int64).min and c_max < np.iinfo(np.int64).max:\n",
    "                        df[col] = df[col].astype(np.int64)  \n",
    "                else:\n",
    "                    if c_min > np.finfo(np.float16).min and c_max < np.finfo(np.float16).max:\n",
    "                        df[col] = df[col].astype(np.float16)\n",
    "                    elif c_min > np.finfo(np.float32).min and c_max < np.finfo(np.float32).max:\n",
    "                        df[col] = df[col].astype(np.float32)\n",
    "                    else:\n",
    "                        df[col] = df[col].astype(np.float64)    \n",
    "    end_mem = df.memory_usage().sum() / 1024**2\n",
    "    if verbose: print('Mem. usage decreased to {:5.2f} Mb ({:.1f}% reduction)'.format(end_mem, 100 * (start_mem - end_mem) / start_mem))\n",
    "    return df"
   ]
  },
  {
   "cell_type": "code",
   "execution_count": 4,
   "metadata": {
    "execution": {
     "iopub.execute_input": "2020-11-02T03:05:05.498116Z",
     "iopub.status.busy": "2020-11-02T03:05:05.497467Z",
     "iopub.status.idle": "2020-11-02T03:05:05.500887Z",
     "shell.execute_reply": "2020-11-02T03:05:05.500349Z"
    },
    "papermill": {
     "duration": 0.033124,
     "end_time": "2020-11-02T03:05:05.501003",
     "exception": false,
     "start_time": "2020-11-02T03:05:05.467879",
     "status": "completed"
    },
    "tags": []
   },
   "outputs": [],
   "source": [
    "# create signal processing features\n",
    "\n",
    "def calc_gradients(s, n_grads=4):\n",
    "    '''\n",
    "    Calculate gradients for a pandas series. Returns the same number of samples\n",
    "    '''\n",
    "    grads = pd.DataFrame()\n",
    "    \n",
    "    g = s.values\n",
    "    for i in range(n_grads):\n",
    "        g = np.gradient(g)\n",
    "        grads['grad_' + str(i+1)] = g\n",
    "        \n",
    "    return grads\n",
    "\n",
    "def calc_low_pass(s, n_filts=5):\n",
    "    '''\n",
    "    Applies low pass filters to the signal. Left delayed and no delayed\n",
    "    '''\n",
    "    wns = np.logspace(-2, -0.3, n_filts)\n",
    "    \n",
    "    low_pass = pd.DataFrame()\n",
    "    x = s.values\n",
    "    for wn in wns:\n",
    "        b, a = signal.butter(1, Wn=wn, btype='low')\n",
    "        zi = signal.lfilter_zi(b, a)\n",
    "        low_pass['lowpass_lf_' + str('%.4f' %wn)] = signal.lfilter(b, a, x, zi=zi*x[0])[0]\n",
    "        low_pass['lowpass_ff_' + str('%.4f' %wn)] = signal.filtfilt(b, a, x)\n",
    "        \n",
    "    return low_pass\n",
    "\n",
    "def calc_high_pass(s, n_filts=5):\n",
    "    '''\n",
    "    Applies high pass filters to the signal. Left delayed and no delayed\n",
    "    '''\n",
    "    wns = np.logspace(-2, -0.1, n_filts)\n",
    "    \n",
    "    high_pass = pd.DataFrame()\n",
    "    x = s.values\n",
    "    for wn in wns:\n",
    "        b, a = signal.butter(1, Wn=wn, btype='high')\n",
    "        zi = signal.lfilter_zi(b, a)\n",
    "        high_pass['highpass_lf_' + str('%.4f' %wn)] = signal.lfilter(b, a, x, zi=zi*x[0])[0]\n",
    "        high_pass['highpass_ff_' + str('%.4f' %wn)] = signal.filtfilt(b, a, x)\n",
    "        \n",
    "    return high_pass\n",
    "\n",
    "def calc_ewm(s, windows=[10, 100]):\n",
    "    '''\n",
    "    Calculates exponential weighted functions\n",
    "    '''\n",
    "    ewm = pd.DataFrame()\n",
    "    for w in windows:\n",
    "        ewm['ewm_mean_' + str(w)] = s.ewm(span=w, min_periods=1).mean()\n",
    "        ewm['ewm_std_' + str(w)] = s.ewm(span=w, min_periods=1).std()\n",
    "        \n",
    "    # add zeros when na values (std)\n",
    "    ewm = ewm.fillna(value=0)\n",
    "        \n",
    "    return ewm\n",
    "\n",
    "def calc_signal_features(s):\n",
    "    '''\n",
    "    All calculations together\n",
    "    '''\n",
    "    low_pass = calc_low_pass(s)\n",
    "    high_pass = calc_high_pass(s)\n",
    "    ewm = calc_ewm(s)\n",
    "    \n",
    "    return pd.concat([s, low_pass, high_pass, ewm], axis=1)\n",
    "\n",
    "def signal_features(s, signal_size=500000):\n",
    "    '''\n",
    "    Divide the signal in bags of \"signal_size\".\n",
    "    Normalize the data dividing it by 15.0\n",
    "    '''\n",
    "    # normalize\n",
    "    s = s / 15.0\n",
    "    \n",
    "    ls = []\n",
    "    for i in range(s.shape[0]//signal_size):\n",
    "        sig = s[i*signal_size:(i+1)*signal_size].copy().reset_index(drop=True)\n",
    "        sig_featured = calc_signal_features(sig)\n",
    "        ls.append(sig_featured)\n",
    "    \n",
    "    ls = pd.concat(ls, axis=0)\n",
    "    return ls[ls.columns[1:]]"
   ]
  },
  {
   "cell_type": "code",
   "execution_count": 5,
   "metadata": {
    "execution": {
     "iopub.execute_input": "2020-11-02T03:05:05.544958Z",
     "iopub.status.busy": "2020-11-02T03:05:05.528208Z",
     "iopub.status.idle": "2020-11-02T03:05:05.548442Z",
     "shell.execute_reply": "2020-11-02T03:05:05.547899Z"
    },
    "papermill": {
     "duration": 0.037191,
     "end_time": "2020-11-02T03:05:05.548563",
     "exception": false,
     "start_time": "2020-11-02T03:05:05.511372",
     "status": "completed"
    },
    "tags": []
   },
   "outputs": [],
   "source": [
    "# rolling and aggreagate batch features\n",
    "def rolling_features(df):\n",
    "    for window in [10, 100]:\n",
    "        # rolling\n",
    "        df['mean_t' + str(window)] = df.groupby(['group'])['signal'].transform(lambda x: x.rolling(window).mean())\n",
    "        df['std_t' + str(window)] = df.groupby(['group'])['signal'].transform(lambda x: x.rolling(window).std())\n",
    "        df['var_t' + str(window)] = df.groupby(['group'])['signal'].transform(lambda x: x.rolling(window).var())\n",
    "        df['q25_t' + str(window)] = df.groupby(['group'])['signal'].transform(lambda x: x.rolling(window).quantile(0.25))\n",
    "        df['q50_t' + str(window)] = df.groupby(['group'])['signal'].transform(lambda x: x.rolling(window).quantile(0.50))\n",
    "        df['q75_t' + str(window)] = df.groupby(['group'])['signal'].transform(lambda x: x.rolling(window).quantile(0.75))\n",
    "        df['min_t' + str(window)] = df.groupby(['group'])['signal'].transform(lambda x: x.rolling(window).min())\n",
    "        df['max_t' + str(window)] = df.groupby(['group'])['signal'].transform(lambda x: x.rolling(window).max())\n",
    "        min_max = (df['signal'] - df['min_t' + str(window)]) / (df['max_t' + str(window)] - df['min_t' + str(window)])\n",
    "        df['norm_t' + str(window)] = min_max * (np.floor(df['max_t' + str(window)]) - np.ceil(df['min_t' + str(window)]))\n",
    "    return df.fillna(0)\n",
    "\n",
    "def shifted_features(df, num_shift=5):\n",
    "    steps = np.arange(1, num_shift+1, dtype=np.int32)\n",
    "    steps = np.append(steps, -steps)\n",
    "    for step in steps:\n",
    "        df['signal_shift_' + str(step)] = df['signal'].shift(step, fill_value=-2.73).astype( np.float32 )\n",
    "    return df\n",
    "\n",
    "def add_category(df):\n",
    "    # treat 10 open channels group as another category\n",
    "    df[\"category\"] = 0\n",
    "    if df.shape[0] > 2_000_000:\n",
    "        # train segments with more then 9 open channels classes\n",
    "        df.loc[2_000_000:2_500_000, 'category'] = 1\n",
    "        df.loc[4_500_000:5_000_000, 'category'] = 1\n",
    "    else:\n",
    "        # test segments with more then 9 open channels classes (potentially)\n",
    "        df.loc[500_000:600_000-1, \"category\"] = 1\n",
    "        df.loc[700_000:800_000-1, \"category\"] = 1\n",
    "    return df\n",
    "\n",
    "def add_features(df):\n",
    "    df = shifted_features(df)\n",
    "    df = rolling_features(df)\n",
    "    df = add_category(df)\n",
    "    df['signal_2'] = df['signal'] ** 2\n",
    "    df = reduce_mem_usage(df).reset_index(drop=True)\n",
    "    sg_df = signal_features(df['signal'])\n",
    "    sg_df = reduce_mem_usage(sg_df).reset_index(drop=True)\n",
    "    return pd.concat([df, sg_df], axis=1)\n",
    "\n",
    "def augment_data(df):\n",
    "    aug_df = df[df[\"group\"] == 5].copy()\n",
    "    aug_df[\"category\"] = 1\n",
    "    aug_df[\"group\"] = 10\n",
    "    for col in [\"signal\", \"open_channels\"]:\n",
    "        aug_df[col] += df[df[\"group\"] == 8][col].values\n",
    "\n",
    "    aug_df['category'] = aug_df['category'].astype( np.int8 )\n",
    "    df = df.append(aug_df, sort=False)\n",
    "    return df\n",
    "\n",
    "def drop_columns(df, columns=('open_channels', 'time', 'group')):\n",
    "    return df[[c for c in df.columns if c not in columns]]"
   ]
  },
  {
   "cell_type": "code",
   "execution_count": 6,
   "metadata": {
    "execution": {
     "iopub.execute_input": "2020-11-02T03:05:05.574394Z",
     "iopub.status.busy": "2020-11-02T03:05:05.573760Z",
     "iopub.status.idle": "2020-11-02T03:06:13.764165Z",
     "shell.execute_reply": "2020-11-02T03:06:13.764882Z"
    },
    "papermill": {
     "duration": 68.207638,
     "end_time": "2020-11-02T03:06:13.765070",
     "exception": false,
     "start_time": "2020-11-02T03:05:05.557432",
     "status": "completed"
    },
    "tags": []
   },
   "outputs": [
    {
     "name": "stdout",
     "output_type": "stream",
     "text": [
      "Mem. usage decreased to 343.32 Mb (69.0% reduction)\n",
      "Mem. usage decreased to 267.03 Mb (72.0% reduction)\n",
      "Mem. usage decreased to 122.07 Mb (71.4% reduction)\n",
      "Mem. usage decreased to 106.81 Mb (72.0% reduction)\n",
      "CPU times: user 52.2 s, sys: 16.4 s, total: 1min 8s\n",
      "Wall time: 1min 8s\n"
     ]
    }
   ],
   "source": [
    "%%time\n",
    "\n",
    "train = add_features(train)\n",
    "test = drop_columns(add_features(test))\n",
    "train = augment_data(train)\n",
    "\n",
    "kf = StratifiedKFold(n_splits=5, shuffle=True, random_state=42)\n",
    "cv_inds = list(kf.split(train, train[\"group\"]))\n",
    "trn_ind, val_ind = cv_inds[0]\n",
    "trn_ind = shuffle(trn_ind)\n",
    "\n",
    "trn, val = train.iloc[trn_ind], train.iloc[val_ind]"
   ]
  },
  {
   "cell_type": "code",
   "execution_count": 7,
   "metadata": {
    "execution": {
     "iopub.execute_input": "2020-11-02T03:06:13.792067Z",
     "iopub.status.busy": "2020-11-02T03:06:13.791344Z",
     "iopub.status.idle": "2020-11-02T03:47:57.439873Z",
     "shell.execute_reply": "2020-11-02T03:47:57.440554Z"
    },
    "papermill": {
     "duration": 2503.665684,
     "end_time": "2020-11-02T03:47:57.440780",
     "exception": false,
     "start_time": "2020-11-02T03:06:13.775096",
     "status": "completed"
    },
    "tags": []
   },
   "outputs": [
    {
     "name": "stderr",
     "output_type": "stream",
     "text": [
      "[Parallel(n_jobs=10)]: Using backend ThreadingBackend with 10 concurrent workers.\n",
      "[Parallel(n_jobs=10)]: Done  30 tasks      | elapsed: 25.4min\n",
      "[Parallel(n_jobs=10)]: Done  50 out of  50 | elapsed: 41.7min finished\n"
     ]
    }
   ],
   "source": [
    "model = RandomForestClassifier(\n",
    "            n_estimators=50,\n",
    "            max_depth=18,\n",
    "            max_features=11,        \n",
    "            random_state=42,\n",
    "            n_jobs=10,\n",
    "            verbose=1,\n",
    "            bootstrap=False, #Don't use repeated rows, this is important to set to False to improve accuracy\n",
    "        ).fit( drop_columns(trn), trn.open_channels )  # drop_columns(trn)[:50000], trn.open_channels[:50000]"
   ]
  },
  {
   "cell_type": "code",
   "execution_count": 8,
   "metadata": {
    "execution": {
     "iopub.execute_input": "2020-11-02T03:47:57.471123Z",
     "iopub.status.busy": "2020-11-02T03:47:57.469772Z",
     "iopub.status.idle": "2020-11-02T03:48:02.878882Z",
     "shell.execute_reply": "2020-11-02T03:48:02.878285Z"
    },
    "papermill": {
     "duration": 5.427004,
     "end_time": "2020-11-02T03:48:02.879005",
     "exception": false,
     "start_time": "2020-11-02T03:47:57.452001",
     "status": "completed"
    },
    "tags": []
   },
   "outputs": [
    {
     "name": "stderr",
     "output_type": "stream",
     "text": [
      "[Parallel(n_jobs=10)]: Using backend ThreadingBackend with 10 concurrent workers.\n",
      "[Parallel(n_jobs=10)]: Done  30 tasks      | elapsed:    3.4s\n",
      "[Parallel(n_jobs=10)]: Done  50 out of  50 | elapsed:    4.9s finished\n"
     ]
    }
   ],
   "source": [
    "pred_val = model.predict( drop_columns(val) )"
   ]
  },
  {
   "cell_type": "code",
   "execution_count": 9,
   "metadata": {
    "execution": {
     "iopub.execute_input": "2020-11-02T03:48:02.909523Z",
     "iopub.status.busy": "2020-11-02T03:48:02.908805Z",
     "iopub.status.idle": "2020-11-02T03:48:03.322830Z",
     "shell.execute_reply": "2020-11-02T03:48:03.322183Z"
    },
    "papermill": {
     "duration": 0.431204,
     "end_time": "2020-11-02T03:48:03.322940",
     "exception": false,
     "start_time": "2020-11-02T03:48:02.891736",
     "status": "completed"
    },
    "tags": []
   },
   "outputs": [
    {
     "data": {
      "text/plain": [
       "0.9438314881972866"
      ]
     },
     "execution_count": 9,
     "metadata": {},
     "output_type": "execute_result"
    }
   ],
   "source": [
    "f1_score(val.open_channels, pred_val, average=\"macro\")"
   ]
  },
  {
   "cell_type": "code",
   "execution_count": 10,
   "metadata": {
    "execution": {
     "iopub.execute_input": "2020-11-02T03:48:03.357091Z",
     "iopub.status.busy": "2020-11-02T03:48:03.356029Z",
     "iopub.status.idle": "2020-11-02T03:48:16.578007Z",
     "shell.execute_reply": "2020-11-02T03:48:16.577030Z"
    },
    "papermill": {
     "duration": 13.242533,
     "end_time": "2020-11-02T03:48:16.578166",
     "exception": false,
     "start_time": "2020-11-02T03:48:03.335633",
     "status": "completed"
    },
    "tags": []
   },
   "outputs": [
    {
     "name": "stderr",
     "output_type": "stream",
     "text": [
      "[Parallel(n_jobs=10)]: Using backend ThreadingBackend with 10 concurrent workers.\n",
      "[Parallel(n_jobs=10)]: Done  30 tasks      | elapsed:    4.8s\n",
      "[Parallel(n_jobs=10)]: Done  50 out of  50 | elapsed:    7.0s finished\n"
     ]
    }
   ],
   "source": [
    "pred_test = model.predict( test )\n",
    "\n",
    "sub.open_channels = np.round( pred_test ).astype(np.int32)\n",
    "sub.to_csv(\"submission.csv\", index=False, float_format='%.4f')"
   ]
  },
  {
   "cell_type": "code",
   "execution_count": 11,
   "metadata": {
    "execution": {
     "iopub.execute_input": "2020-11-02T03:48:16.613384Z",
     "iopub.status.busy": "2020-11-02T03:48:16.612367Z",
     "iopub.status.idle": "2020-11-02T03:48:16.615569Z",
     "shell.execute_reply": "2020-11-02T03:48:16.614875Z"
    },
    "papermill": {
     "duration": 0.023166,
     "end_time": "2020-11-02T03:48:16.615679",
     "exception": false,
     "start_time": "2020-11-02T03:48:16.592513",
     "status": "completed"
    },
    "tags": []
   },
   "outputs": [],
   "source": [
    "def plot_feature_importance(features, importances):\n",
    "    plt.figure(figsize=(12, 14))\n",
    "    sns.barplot(x = importances, y = features)\n",
    "    plt.xlabel('Importance', fontsize=13)\n",
    "    plt.ylabel('Feature', fontsize=13)\n",
    "    plt.tick_params(axis='x', labelsize=11)\n",
    "    plt.tick_params(axis='y', labelsize=11)\n",
    "    plt.title('Light Gradient Boosting Feature Importance (5 KFold)')\n",
    "    plt.show()"
   ]
  },
  {
   "cell_type": "code",
   "execution_count": 12,
   "metadata": {
    "execution": {
     "iopub.execute_input": "2020-11-02T03:48:16.656354Z",
     "iopub.status.busy": "2020-11-02T03:48:16.655222Z",
     "iopub.status.idle": "2020-11-02T03:48:18.176019Z",
     "shell.execute_reply": "2020-11-02T03:48:18.176509Z"
    },
    "papermill": {
     "duration": 1.542084,
     "end_time": "2020-11-02T03:48:18.176659",
     "exception": false,
     "start_time": "2020-11-02T03:48:16.634575",
     "status": "completed"
    },
    "tags": []
   },
   "outputs": [
    {
     "data": {
      "image/png": "[encoded data removed]",
      "text/plain": [
       "<Figure size 864x1008 with 1 Axes>"
      ]
     },
     "metadata": {
      "needs_background": "light"
     },
     "output_type": "display_data"
    }
   ],
   "source": [
    "ind = np.argsort(model.feature_importances_)[::-1]\n",
    "plot_feature_importance(drop_columns(trn).columns[ind], model.feature_importances_[ind])"
   ]
  },
  {
   "cell_type": "code",
   "execution_count": null,
   "metadata": {
    "papermill": {
     "duration": 0.015078,
     "end_time": "2020-11-02T03:48:18.207294",
     "exception": false,
     "start_time": "2020-11-02T03:48:18.192216",
     "status": "completed"
    },
    "tags": []
   },
   "outputs": [],
   "source": []
  }
 ],
 "metadata": {
  "kernelspec": {
   "display_name": "Python 3",
   "language": "python",
   "name": "python3"
  },
  "language_info": {
   "codemirror_mode": {
    "name": "ipython",
    "version": 3
   },
   "file_extension": ".py",
   "mimetype": "text/x-python",
   "name": "python",
   "nbconvert_exporter": "python",
   "pygments_lexer": "ipython3",
   "version": "3.7.6"
  },
  "papermill": {
   "duration": 2601.327372,
   "end_time": "2020-11-02T03:48:18.330340",
   "environment_variables": {},
   "exception": null,
   "input_path": "__notebook__.ipynb",
   "output_path": "__notebook__.ipynb",
   "parameters": {},
   "start_time": "2020-11-02T03:04:57.002968",
   "version": "2.1.0"
  }
 },
 "nbformat": 4,
 "nbformat_minor": 4
}
