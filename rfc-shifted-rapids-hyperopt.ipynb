{
 "cells": [
  {
   "cell_type": "code",
   "execution_count": 1,
   "metadata": {
    "_cell_guid": "b1076dfc-b9ad-4769-8c92-a6c4dae69d19",
    "_uuid": "8f2839f25d086af736a60e9eeb907d3b93b6e0e5",
    "execution": {
     "iopub.execute_input": "2020-11-02T03:40:08.825902Z",
     "iopub.status.busy": "2020-11-02T03:40:08.825039Z",
     "iopub.status.idle": "2020-11-02T03:41:56.737253Z",
     "shell.execute_reply": "2020-11-02T03:41:56.735930Z"
    },
    "papermill": {
     "duration": 107.939087,
     "end_time": "2020-11-02T03:41:56.737428",
     "exception": false,
     "start_time": "2020-11-02T03:40:08.798341",
     "status": "completed"
    },
    "tags": []
   },
   "outputs": [],
   "source": [
    "# Install RAPIDS 0.15.0\n",
    "\n",
    "import sys\n",
    "!cp ../input/rapids/rapids.0.15.0 /opt/conda/envs/rapids.tar.gz\n",
    "!cd /opt/conda/envs/ && tar -xzvf rapids.tar.gz > /dev/null\n",
    "sys.path = [\"/opt/conda/envs/rapids/lib/python3.7/site-packages\"] + sys.path\n",
    "sys.path = [\"/opt/conda/envs/rapids/lib/python3.7\"] + sys.path\n",
    "sys.path = [\"/opt/conda/envs/rapids/lib\"] + sys.path \n",
    "!cp /opt/conda/envs/rapids/lib/libxgboost.so /opt/conda/lib/"
   ]
  },
  {
   "cell_type": "code",
   "execution_count": 2,
   "metadata": {
    "_cell_guid": "79c7e3d0-c299-4dcb-8224-4455121ee9b0",
    "_uuid": "d629ff2d2480ee46fbb7e2d37f6b5fab8052498a",
    "execution": {
     "iopub.execute_input": "2020-11-02T03:41:56.772521Z",
     "iopub.status.busy": "2020-11-02T03:41:56.771634Z",
     "iopub.status.idle": "2020-11-02T03:42:00.434585Z",
     "shell.execute_reply": "2020-11-02T03:42:00.433981Z"
    },
    "papermill": {
     "duration": 3.681109,
     "end_time": "2020-11-02T03:42:00.434720",
     "exception": false,
     "start_time": "2020-11-02T03:41:56.753611",
     "status": "completed"
    },
    "tags": []
   },
   "outputs": [
    {
     "name": "stdout",
     "output_type": "stream",
     "text": [
      "CUML version: 0.15.0\n"
     ]
    }
   ],
   "source": [
    "import os, gc, csv, time, pickle\n",
    "\n",
    "import numpy as np\n",
    "import pandas as pd\n",
    "\n",
    "from sklearn.metrics import f1_score, accuracy_score\n",
    "from sklearn.model_selection import KFold, StratifiedKFold\n",
    "import hyperopt as hpo\n",
    "from hyperopt import hp, tpe, fmin, Trials, STATUS_OK\n",
    "\n",
    "import cuml\n",
    "from cuml.ensemble import RandomForestRegressor, RandomForestClassifier\n",
    "import cudf\n",
    "\n",
    "import matplotlib.pyplot as plt\n",
    "import seaborn as sns\n",
    "\n",
    "print(\"CUML version:\", cuml.__version__)"
   ]
  },
  {
   "cell_type": "code",
   "execution_count": 3,
   "metadata": {
    "execution": {
     "iopub.execute_input": "2020-11-02T03:42:00.476143Z",
     "iopub.status.busy": "2020-11-02T03:42:00.467169Z",
     "iopub.status.idle": "2020-11-02T03:42:00.479279Z",
     "shell.execute_reply": "2020-11-02T03:42:00.478678Z"
    },
    "papermill": {
     "duration": 0.035008,
     "end_time": "2020-11-02T03:42:00.479391",
     "exception": false,
     "start_time": "2020-11-02T03:42:00.444383",
     "status": "completed"
    },
    "tags": []
   },
   "outputs": [],
   "source": [
    "def load_data():\n",
    "    train = pd.read_csv(\"../input/ion-clean/train_full_clean.csv\")\n",
    "    test = pd.read_csv(\"../input/ion-clean/test_full_clean.csv\")\n",
    "    sub = pd.read_csv(\"../input/liverpool-ion-switching/sample_submission.csv\")\n",
    "    train['signal'] = train['signal'].astype( np.float32 )\n",
    "    train['open_channels'] = train['open_channels'].astype( np.float32 )\n",
    "    test['signal'] = test['signal'].astype( np.float32 )\n",
    "    return train, test, sub\n",
    "\n",
    "\n",
    "def add_category(train, test):\n",
    "    # treat 10 open channels group as another category\n",
    "    \n",
    "    train[\"category\"] = 0\n",
    "    test[\"category\"] = 0\n",
    "    \n",
    "    # train segments with more then 9 open channels classes\n",
    "    train.loc[2_000_000:2_500_000, 'category'] = 1\n",
    "    train.loc[4_500_000:5_000_000, 'category'] = 1\n",
    "    \n",
    "    # test segments with more then 9 open channels classes (potentially)\n",
    "    test.loc[500_000:600_000, \"category\"] = 1\n",
    "    test.loc[700_000:800_000, \"category\"] = 1\n",
    "    \n",
    "    train['category'] = train['category'].astype( np.float32 )\n",
    "    test['category'] = test['category'].astype( np.float32 )\n",
    "    \n",
    "    return train, test\n",
    "\n",
    "\n",
    "def add_features(df, num_shift=11):\n",
    "    steps = np.arange(1, num_shift+1, dtype=np.int32)\n",
    "    steps = np.append(steps, -steps)\n",
    "    for step in steps:\n",
    "        df['signal_shift_' + str(step)] = df['signal'].shift(step, fill_value=0).astype( np.float32 )\n",
    "    df['signal_2'] = (df['signal'] ** 2).astype( np.float32 )\n",
    "    return df\n",
    "\n",
    "\n",
    "def augment_data(df):\n",
    "    aug_df = df[df[\"group\"] == 5].copy()\n",
    "    aug_df[\"category\"] = 1\n",
    "    aug_df[\"group\"] = 10\n",
    "    for col in [\"signal\", \"open_channels\"]:\n",
    "        aug_df[col] += df[df[\"group\"] == 8][col].values\n",
    "\n",
    "    aug_df['category'] = aug_df['category'].astype( np.float32 )\n",
    "    df = df.append(aug_df, sort=False)\n",
    "    return df\n",
    "\n",
    "\n",
    "def drop_columns(df, columns=('open_channels', 'time', 'group')):\n",
    "    return df[[c for c in df.columns if c not in columns]]"
   ]
  },
  {
   "cell_type": "code",
   "execution_count": 4,
   "metadata": {
    "execution": {
     "iopub.execute_input": "2020-11-02T03:42:00.514055Z",
     "iopub.status.busy": "2020-11-02T03:42:00.511112Z",
     "iopub.status.idle": "2020-11-02T03:42:00.516905Z",
     "shell.execute_reply": "2020-11-02T03:42:00.516365Z"
    },
    "papermill": {
     "duration": 0.028231,
     "end_time": "2020-11-02T03:42:00.517009",
     "exception": false,
     "start_time": "2020-11-02T03:42:00.488778",
     "status": "completed"
    },
    "tags": []
   },
   "outputs": [],
   "source": [
    "# for hyperopt\n",
    "\n",
    "def get_objective_func(fold):\n",
    "    def objective(params, fold=fold):\n",
    "        global iters\n",
    "\n",
    "        # run training\n",
    "        start = time.time()\n",
    "        model = RandomForestClassifier(**params, split_algo=0).fit( x_trn, trn.open_channels )\n",
    "        run_time = time.time() - start\n",
    "\n",
    "        # evaluation and define loss\n",
    "        pred_val = model.predict( x_val ).to_array()\n",
    "        val_f1 = f1_score(val.open_channels, pred_val, average=\"macro\")\n",
    "        loss = 1 - val_f1\n",
    "\n",
    "        # write to csv file\n",
    "        out_file = f'rfc_trials.csv'\n",
    "        if fold == 0 and iters == 0:\n",
    "            # File to save first results\n",
    "            of_connection = open(out_file, 'w')\n",
    "            writer = csv.writer(of_connection)\n",
    "            # Write the headers to the file\n",
    "            writer.writerow(['loss', 'params', 'fold', 'iteration', 'train_time', 'status'])\n",
    "            of_connection.close()\n",
    "        # Write to the csv file ('a' means append)\n",
    "        of_connection = open(out_file, 'a')\n",
    "        writer = csv.writer(of_connection)\n",
    "        writer.writerow([loss, params, fold, iters, run_time, STATUS_OK])\n",
    "        of_connection.close()\n",
    "        iters += 1\n",
    "\n",
    "        return {'loss': loss, 'params': params, 'fold': fold, 'iteration': iters,\n",
    "                'train_time': run_time, 'status': STATUS_OK}\n",
    "    return objective\n",
    "\n",
    "space = {\n",
    "    'n_estimators': hp.quniform('n_estimators', 30, 100, 10),\n",
    "    'rows_sample': hp.uniform('rows_sample', 0.2, 0.8),\n",
    "    'max_depth': hp.quniform('max_depth', 8, 20, 1),\n",
    "    'max_features': hp.uniform('max_features', 0.4, 0.8),\n",
    "    'bootstrap': hp.choice('bootstrap', [False, True]),\n",
    "}"
   ]
  },
  {
   "cell_type": "code",
   "execution_count": 5,
   "metadata": {
    "execution": {
     "iopub.execute_input": "2020-11-02T03:42:00.547342Z",
     "iopub.status.busy": "2020-11-02T03:42:00.546621Z",
     "iopub.status.idle": "2020-11-02T03:42:09.690961Z",
     "shell.execute_reply": "2020-11-02T03:42:09.689688Z"
    },
    "papermill": {
     "duration": 9.164427,
     "end_time": "2020-11-02T03:42:09.691106",
     "exception": false,
     "start_time": "2020-11-02T03:42:00.526679",
     "status": "completed"
    },
    "tags": []
   },
   "outputs": [],
   "source": [
    "train, test, sub = load_data()\n",
    "train[\"group\"] = np.arange(train.shape[0]) // 500_000\n",
    "\n",
    "train, test = add_category(train, test)\n",
    "train = augment_data(train)\n",
    "train = add_features(train)\n",
    "test = add_features(test)\n",
    "\n",
    "oof_preds = np.zeros((len(train)))\n",
    "pred_test = np.zeros((len(test)))\n",
    "test = cudf.from_pandas( drop_columns(test) )\n",
    "\n",
    "kf = StratifiedKFold(n_splits=5, shuffle=True, random_state=42)\n",
    "cv_indices = list(kf.split(train, train[\"group\"]))"
   ]
  },
  {
   "cell_type": "code",
   "execution_count": 6,
   "metadata": {
    "execution": {
     "iopub.execute_input": "2020-11-02T03:42:09.724994Z",
     "iopub.status.busy": "2020-11-02T03:42:09.723552Z",
     "iopub.status.idle": "2020-11-02T04:02:39.449868Z",
     "shell.execute_reply": "2020-11-02T04:02:39.448740Z"
    },
    "papermill": {
     "duration": 1229.748673,
     "end_time": "2020-11-02T04:02:39.450007",
     "exception": false,
     "start_time": "2020-11-02T03:42:09.701334",
     "status": "completed"
    },
    "tags": []
   },
   "outputs": [
    {
     "name": "stdout",
     "output_type": "stream",
     "text": [
      "Fold 0\n",
      "100%|██████████| 10/10 [03:58<00:00, 23.87s/trial, best loss: 0.06101612828262393]\n",
      "{'bootstrap': 0, 'max_depth': 15.0, 'max_features': 0.6599762469716306, 'n_estimators': 90.0, 'rows_sample': 0.5541681489016326}\n",
      "\n",
      "Fold 1\n",
      "100%|██████████| 10/10 [02:43<00:00, 16.33s/trial, best loss: 0.061206799349802776]\n",
      "{'bootstrap': 0, 'max_depth': 14.0, 'max_features': 0.7386530324444954, 'n_estimators': 50.0, 'rows_sample': 0.4488454921245659}\n",
      "\n",
      "Fold 2\n",
      "100%|██████████| 10/10 [03:45<00:00, 22.54s/trial, best loss: 0.06155151642561496]\n",
      "{'bootstrap': 1, 'max_depth': 16.0, 'max_features': 0.4975940549704325, 'n_estimators': 70.0, 'rows_sample': 0.6129527598860405}\n",
      "\n",
      "Fold 3\n",
      "100%|██████████| 10/10 [03:52<00:00, 23.29s/trial, best loss: 0.06089543200243985]\n",
      "{'bootstrap': 0, 'max_depth': 15.0, 'max_features': 0.4569816986820777, 'n_estimators': 50.0, 'rows_sample': 0.3764832359152034}\n",
      "\n",
      "Fold 4\n",
      "100%|██████████| 10/10 [03:38<00:00, 21.86s/trial, best loss: 0.06100678303592444]\n",
      "{'bootstrap': 0, 'max_depth': 18.0, 'max_features': 0.6426471499271906, 'n_estimators': 100.0, 'rows_sample': 0.4875044800414843}\n",
      "\n"
     ]
    }
   ],
   "source": [
    "for fold, (trn_ind, val_ind) in enumerate(cv_indices):\n",
    "    print(f'Fold {fold}')\n",
    "    \n",
    "    trn, val = train.iloc[trn_ind], train.iloc[val_ind]\n",
    "    x_trn = cudf.from_pandas( drop_columns(trn) )\n",
    "    x_val   = cudf.from_pandas( drop_columns(val) )\n",
    "    \n",
    "    opt_algorithm = tpe.suggest\n",
    "    bayes_trials = Trials()\n",
    "    iters = 0\n",
    "    max_evals = 10\n",
    "    \n",
    "    # Optimize\n",
    "    objective = get_objective_func(fold)\n",
    "    best_param = fmin(fn=objective, space=space, algo=opt_algorithm, \n",
    "                      max_evals=max_evals, trials=bayes_trials)\n",
    "    print(best_param)\n",
    "    print()\n",
    "    \n",
    "    model = RandomForestClassifier(**best_param, split_algo=0).fit( x_trn, trn.open_channels )\n",
    "    \n",
    "    pred_val = model.predict( x_val ).to_array()\n",
    "    oof_preds[val_ind] = pred_val  # np.round( pred_val )\n",
    "        \n",
    "    pred_test += model.predict( test ).to_array() / 5\n",
    "    del model; _=gc.collect()"
   ]
  },
  {
   "cell_type": "code",
   "execution_count": 7,
   "metadata": {
    "execution": {
     "iopub.execute_input": "2020-11-02T04:02:39.528400Z",
     "iopub.status.busy": "2020-11-02T04:02:39.527094Z",
     "iopub.status.idle": "2020-11-02T04:02:42.377970Z",
     "shell.execute_reply": "2020-11-02T04:02:42.378534Z"
    },
    "papermill": {
     "duration": 2.892374,
     "end_time": "2020-11-02T04:02:42.378697",
     "exception": false,
     "start_time": "2020-11-02T04:02:39.486323",
     "status": "completed"
    },
    "tags": []
   },
   "outputs": [
    {
     "data": {
      "text/plain": [
       "0.9388310704408834"
      ]
     },
     "execution_count": 7,
     "metadata": {},
     "output_type": "execute_result"
    }
   ],
   "source": [
    "f1_score(train.open_channels, oof_preds, average=\"macro\")"
   ]
  },
  {
   "cell_type": "code",
   "execution_count": 8,
   "metadata": {
    "execution": {
     "iopub.execute_input": "2020-11-02T04:02:42.459085Z",
     "iopub.status.busy": "2020-11-02T04:02:42.457656Z",
     "iopub.status.idle": "2020-11-02T04:02:52.125175Z",
     "shell.execute_reply": "2020-11-02T04:02:52.124008Z"
    },
    "papermill": {
     "duration": 9.710274,
     "end_time": "2020-11-02T04:02:52.125315",
     "exception": false,
     "start_time": "2020-11-02T04:02:42.415041",
     "status": "completed"
    },
    "tags": []
   },
   "outputs": [],
   "source": [
    "sub.open_channels = np.round( pred_test ).astype(np.int32)\n",
    "sub.to_csv(\"submission.csv\", index=False, float_format='%.4f')"
   ]
  },
  {
   "cell_type": "code",
   "execution_count": 9,
   "metadata": {
    "execution": {
     "iopub.execute_input": "2020-11-02T04:02:52.205501Z",
     "iopub.status.busy": "2020-11-02T04:02:52.204729Z",
     "iopub.status.idle": "2020-11-02T04:02:52.229427Z",
     "shell.execute_reply": "2020-11-02T04:02:52.229993Z"
    },
    "papermill": {
     "duration": 0.067944,
     "end_time": "2020-11-02T04:02:52.230122",
     "exception": false,
     "start_time": "2020-11-02T04:02:52.162178",
     "status": "completed"
    },
    "tags": []
   },
   "outputs": [
    {
     "name": "stdout",
     "output_type": "stream",
     "text": [
      "(50, 6)\n"
     ]
    },
    {
     "data": {
      "text/html": [
       "<div>\n",
       "<style scoped>\n",
       "    .dataframe tbody tr th:only-of-type {\n",
       "        vertical-align: middle;\n",
       "    }\n",
       "\n",
       "    .dataframe tbody tr th {\n",
       "        vertical-align: top;\n",
       "    }\n",
       "\n",
       "    .dataframe thead th {\n",
       "        text-align: right;\n",
       "    }\n",
       "</style>\n",
       "<table border=\"1\" class=\"dataframe\">\n",
       "  <thead>\n",
       "    <tr style=\"text-align: right;\">\n",
       "      <th></th>\n",
       "      <th>loss</th>\n",
       "      <th>params</th>\n",
       "      <th>fold</th>\n",
       "      <th>iteration</th>\n",
       "      <th>train_time</th>\n",
       "      <th>status</th>\n",
       "    </tr>\n",
       "  </thead>\n",
       "  <tbody>\n",
       "    <tr>\n",
       "      <th>0</th>\n",
       "      <td>0.429573</td>\n",
       "      <td>{'bootstrap': True, 'max_depth': 11.0, 'max_fe...</td>\n",
       "      <td>0</td>\n",
       "      <td>0</td>\n",
       "      <td>8.776213</td>\n",
       "      <td>ok</td>\n",
       "    </tr>\n",
       "    <tr>\n",
       "      <th>1</th>\n",
       "      <td>0.064975</td>\n",
       "      <td>{'bootstrap': False, 'max_depth': 9.0, 'max_fe...</td>\n",
       "      <td>0</td>\n",
       "      <td>1</td>\n",
       "      <td>4.540418</td>\n",
       "      <td>ok</td>\n",
       "    </tr>\n",
       "    <tr>\n",
       "      <th>2</th>\n",
       "      <td>0.061033</td>\n",
       "      <td>{'bootstrap': False, 'max_depth': 16.0, 'max_f...</td>\n",
       "      <td>0</td>\n",
       "      <td>2</td>\n",
       "      <td>33.187916</td>\n",
       "      <td>ok</td>\n",
       "    </tr>\n",
       "    <tr>\n",
       "      <th>3</th>\n",
       "      <td>0.061277</td>\n",
       "      <td>{'bootstrap': False, 'max_depth': 18.0, 'max_f...</td>\n",
       "      <td>0</td>\n",
       "      <td>3</td>\n",
       "      <td>26.893453</td>\n",
       "      <td>ok</td>\n",
       "    </tr>\n",
       "    <tr>\n",
       "      <th>4</th>\n",
       "      <td>0.061016</td>\n",
       "      <td>{'bootstrap': False, 'max_depth': 15.0, 'max_f...</td>\n",
       "      <td>0</td>\n",
       "      <td>4</td>\n",
       "      <td>31.575552</td>\n",
       "      <td>ok</td>\n",
       "    </tr>\n",
       "  </tbody>\n",
       "</table>\n",
       "</div>"
      ],
      "text/plain": [
       "       loss                                             params  fold  \\\n",
       "0  0.429573  {'bootstrap': True, 'max_depth': 11.0, 'max_fe...     0   \n",
       "1  0.064975  {'bootstrap': False, 'max_depth': 9.0, 'max_fe...     0   \n",
       "2  0.061033  {'bootstrap': False, 'max_depth': 16.0, 'max_f...     0   \n",
       "3  0.061277  {'bootstrap': False, 'max_depth': 18.0, 'max_f...     0   \n",
       "4  0.061016  {'bootstrap': False, 'max_depth': 15.0, 'max_f...     0   \n",
       "\n",
       "   iteration  train_time status  \n",
       "0          0    8.776213     ok  \n",
       "1          1    4.540418     ok  \n",
       "2          2   33.187916     ok  \n",
       "3          3   26.893453     ok  \n",
       "4          4   31.575552     ok  "
      ]
     },
     "execution_count": 9,
     "metadata": {},
     "output_type": "execute_result"
    }
   ],
   "source": [
    "hp_opt = pd.read_csv('rfc_trials.csv')\n",
    "print(hp_opt.shape)\n",
    "hp_opt.head()"
   ]
  },
  {
   "cell_type": "code",
   "execution_count": null,
   "metadata": {
    "papermill": {
     "duration": 0.037816,
     "end_time": "2020-11-02T04:02:52.306635",
     "exception": false,
     "start_time": "2020-11-02T04:02:52.268819",
     "status": "completed"
    },
    "tags": []
   },
   "outputs": [],
   "source": []
  }
 ],
 "metadata": {
  "kernelspec": {
   "display_name": "Python 3",
   "language": "python",
   "name": "python3"
  },
  "language_info": {
   "codemirror_mode": {
    "name": "ipython",
    "version": 3
   },
   "file_extension": ".py",
   "mimetype": "text/x-python",
   "name": "python",
   "nbconvert_exporter": "python",
   "pygments_lexer": "ipython3",
   "version": "3.7.6"
  },
  "papermill": {
   "duration": 1368.422231,
   "end_time": "2020-11-02T04:02:52.952412",
   "environment_variables": {},
   "exception": null,
   "input_path": "__notebook__.ipynb",
   "output_path": "__notebook__.ipynb",
   "parameters": {},
   "start_time": "2020-11-02T03:40:04.530181",
   "version": "2.1.0"
  }
 },
 "nbformat": 4,
 "nbformat_minor": 4
}
