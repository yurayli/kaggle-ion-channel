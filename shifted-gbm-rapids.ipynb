{
 "cells": [
  {
   "cell_type": "code",
   "execution_count": 1,
   "metadata": {
    "_cell_guid": "b1076dfc-b9ad-4769-8c92-a6c4dae69d19",
    "_uuid": "8f2839f25d086af736a60e9eeb907d3b93b6e0e5",
    "execution": {
     "iopub.execute_input": "2020-10-28T07:58:37.417182Z",
     "iopub.status.busy": "2020-10-28T07:58:37.416316Z",
     "iopub.status.idle": "2020-10-28T08:00:09.196843Z",
     "shell.execute_reply": "2020-10-28T08:00:09.195261Z"
    },
    "papermill": {
     "duration": 91.805013,
     "end_time": "2020-10-28T08:00:09.197106",
     "exception": false,
     "start_time": "2020-10-28T07:58:37.392093",
     "status": "completed"
    },
    "tags": []
   },
   "outputs": [],
   "source": [
    "# Install RAPIDS 0.15.0\n",
    "\n",
    "import sys\n",
    "!cp ../input/rapids/rapids.0.15.0 /opt/conda/envs/rapids.tar.gz\n",
    "!cd /opt/conda/envs/ && tar -xzvf rapids.tar.gz > /dev/null\n",
    "sys.path = [\"/opt/conda/envs/rapids/lib/python3.7/site-packages\"] + sys.path\n",
    "sys.path = [\"/opt/conda/envs/rapids/lib/python3.7\"] + sys.path\n",
    "sys.path = [\"/opt/conda/envs/rapids/lib\"] + sys.path \n",
    "!cp /opt/conda/envs/rapids/lib/libxgboost.so /opt/conda/lib/"
   ]
  },
  {
   "cell_type": "code",
   "execution_count": 2,
   "metadata": {
    "_cell_guid": "79c7e3d0-c299-4dcb-8224-4455121ee9b0",
    "_uuid": "d629ff2d2480ee46fbb7e2d37f6b5fab8052498a",
    "execution": {
     "iopub.execute_input": "2020-10-28T08:00:32.801318Z",
     "iopub.status.busy": "2020-10-28T08:00:32.800252Z",
     "iopub.status.idle": "2020-10-28T08:00:35.741333Z",
     "shell.execute_reply": "2020-10-28T08:00:35.739510Z"
    },
    "papermill": {
     "duration": 2.96501,
     "end_time": "2020-10-28T08:00:35.741482",
     "exception": false,
     "start_time": "2020-10-28T08:00:32.776472",
     "status": "completed"
    },
    "tags": []
   },
   "outputs": [
    {
     "name": "stdout",
     "output_type": "stream",
     "text": [
      "CUML version: 0.15.0\n"
     ]
    }
   ],
   "source": [
    "import os, gc, math\n",
    "\n",
    "import numpy as np\n",
    "import pandas as pd\n",
    "\n",
    "from sklearn.ensemble import RandomForestClassifier\n",
    "from sklearn.pipeline import make_pipeline\n",
    "from sklearn.base import BaseEstimator, TransformerMixin\n",
    "from sklearn.metrics import f1_score, accuracy_score\n",
    "from sklearn.model_selection import KFold, StratifiedKFold, GroupKFold\n",
    "\n",
    "import xgboost as xgb\n",
    "\n",
    "import cuml\n",
    "from cuml.ensemble import RandomForestRegressor, RandomForestClassifier\n",
    "import cudf\n",
    "import pynvml\n",
    "\n",
    "print(\"CUML version:\", cuml.__version__)"
   ]
  },
  {
   "cell_type": "code",
   "execution_count": 3,
   "metadata": {
    "execution": {
     "iopub.execute_input": "2020-10-28T08:00:35.786299Z",
     "iopub.status.busy": "2020-10-28T08:00:35.775313Z",
     "iopub.status.idle": "2020-10-28T08:00:35.789617Z",
     "shell.execute_reply": "2020-10-28T08:00:35.790193Z"
    },
    "papermill": {
     "duration": 0.041317,
     "end_time": "2020-10-28T08:00:35.790350",
     "exception": false,
     "start_time": "2020-10-28T08:00:35.749033",
     "status": "completed"
    },
    "tags": []
   },
   "outputs": [],
   "source": [
    "def load_data():\n",
    "    train = pd.read_csv(\"../input/data-without-drift/train_clean.csv\")\n",
    "    test = pd.read_csv(\"../input/data-without-drift/test_clean.csv\")\n",
    "#     train = pd.read_csv('../input/clean-kalman/clean_kalman/train_clean_kalman.csv')\n",
    "#     test = pd.read_csv('../input/clean-kalman/clean_kalman/test_clean_kalman.csv')\n",
    "    sub = pd.read_csv(\"../input/liverpool-ion-switching/sample_submission.csv\")\n",
    "    train['signal'] = train['signal'].astype( np.float32 )\n",
    "    train['open_channels'] = train['open_channels'].astype( np.float32 )\n",
    "    test['signal'] = test['signal'].astype( np.float32 )\n",
    "    return train, test, sub\n",
    "\n",
    "\n",
    "def add_category(train, test):\n",
    "    # treat 10 open channels group as another category\n",
    "    \n",
    "    train[\"category\"] = 0\n",
    "    test[\"category\"] = 0\n",
    "    \n",
    "    # train segments with more then 9 open channels classes\n",
    "    train.loc[2_000_000:2_500_000-1, 'category'] = 1\n",
    "    train.loc[4_500_000:5_000_000-1, 'category'] = 1\n",
    "    \n",
    "    # test segments with more then 9 open channels classes (potentially)\n",
    "    test.loc[500_000:600_000-1, \"category\"] = 1\n",
    "    test.loc[700_000:800_000-1, \"category\"] = 1\n",
    "    \n",
    "    train['category'] = train['category'].astype( np.float32 )\n",
    "    test['category'] = test['category'].astype( np.float32 )\n",
    "    \n",
    "    return train, test\n",
    "\n",
    "\n",
    "def add_features(df, num_shift=11):\n",
    "    steps = np.arange(1, num_shift+1, dtype=np.int32)\n",
    "    steps = np.append(steps, -steps)\n",
    "    for step in steps:\n",
    "        df['signal_shift_' + str(step)] = df['signal'].shift(step, fill_value=-2.73).astype( np.float32 )\n",
    "    df['signal_2'] = (df['signal'] ** 2).astype( np.float32 )\n",
    "    return df\n",
    "\n",
    "\n",
    "def augment_data(df):\n",
    "    aug_df = df[df[\"group\"] == 5].copy()\n",
    "    aug_df[\"category\"] = 1\n",
    "    aug_df[\"group\"] = 10\n",
    "    for col in [\"signal\", \"open_channels\"]:\n",
    "        aug_df[col] += df[df[\"group\"] == 8][col].values\n",
    "\n",
    "    aug_df['category'] = aug_df['category'].astype( np.float32 )\n",
    "    df = df.append(aug_df, sort=False)\n",
    "    return df\n",
    "\n",
    "\n",
    "def drop_columns(df, columns=('open_channels', 'time', 'group')):\n",
    "    return df[[c for c in df.columns if c not in columns]]"
   ]
  },
  {
   "cell_type": "code",
   "execution_count": 4,
   "metadata": {
    "execution": {
     "iopub.execute_input": "2020-10-28T08:00:35.826391Z",
     "iopub.status.busy": "2020-10-28T08:00:35.825265Z",
     "iopub.status.idle": "2020-10-28T08:11:49.350240Z",
     "shell.execute_reply": "2020-10-28T08:11:49.349617Z"
    },
    "papermill": {
     "duration": 673.5527,
     "end_time": "2020-10-28T08:11:49.350372",
     "exception": false,
     "start_time": "2020-10-28T08:00:35.797672",
     "status": "completed"
    },
    "tags": []
   },
   "outputs": [
    {
     "name": "stdout",
     "output_type": "stream",
     "text": [
      "Fold 0\n",
      "[0]\tvalidation-merror:0.04224\ttrain-merror:0.04038\n",
      "[20]\tvalidation-merror:0.03978\ttrain-merror:0.03481\n",
      "[40]\tvalidation-merror:0.03977\ttrain-merror:0.03222\n",
      "[60]\tvalidation-merror:0.03990\ttrain-merror:0.02918\n",
      "[79]\tvalidation-merror:0.03999\ttrain-merror:0.02521\n",
      "Fold 1\n",
      "[0]\tvalidation-merror:0.04995\ttrain-merror:0.04827\n",
      "[20]\tvalidation-merror:0.03937\ttrain-merror:0.03494\n",
      "[40]\tvalidation-merror:0.03939\ttrain-merror:0.03245\n",
      "[60]\tvalidation-merror:0.03947\ttrain-merror:0.02928\n",
      "[79]\tvalidation-merror:0.03956\ttrain-merror:0.02507\n",
      "Fold 2\n",
      "[0]\tvalidation-merror:0.04503\ttrain-merror:0.04306\n",
      "[20]\tvalidation-merror:0.03973\ttrain-merror:0.03496\n",
      "[40]\tvalidation-merror:0.03968\ttrain-merror:0.03243\n",
      "[60]\tvalidation-merror:0.03977\ttrain-merror:0.02942\n",
      "[79]\tvalidation-merror:0.03992\ttrain-merror:0.02538\n",
      "Fold 3\n",
      "[0]\tvalidation-merror:0.04450\ttrain-merror:0.04296\n",
      "[20]\tvalidation-merror:0.03952\ttrain-merror:0.03496\n",
      "[40]\tvalidation-merror:0.03955\ttrain-merror:0.03251\n",
      "[60]\tvalidation-merror:0.03970\ttrain-merror:0.02934\n",
      "[79]\tvalidation-merror:0.03980\ttrain-merror:0.02527\n",
      "Fold 4\n",
      "[0]\tvalidation-merror:0.06110\ttrain-merror:0.05922\n",
      "[20]\tvalidation-merror:0.03957\ttrain-merror:0.03489\n",
      "[40]\tvalidation-merror:0.03963\ttrain-merror:0.03238\n",
      "[60]\tvalidation-merror:0.03976\ttrain-merror:0.02925\n",
      "[79]\tvalidation-merror:0.03987\ttrain-merror:0.02519\n"
     ]
    }
   ],
   "source": [
    "train, test, sub = load_data()\n",
    "train[\"group\"] = np.arange(train.shape[0]) // 500_000\n",
    "\n",
    "train, test = add_category(train, test)\n",
    "train = augment_data(train)\n",
    "train = add_features(train)\n",
    "test = add_features(test)\n",
    "\n",
    "oof_preds = np.zeros((len(train)))\n",
    "pred_test = np.zeros((len(test)))\n",
    "test = cudf.from_pandas( drop_columns(test) )\n",
    "\n",
    "kf = StratifiedKFold(n_splits=5, shuffle=True, random_state=42)\n",
    "\n",
    "for fold, (trn_ind, val_ind) in enumerate(kf.split(train, train[\"group\"])):\n",
    "    print(f'Fold {fold}')\n",
    "    \n",
    "    trn, val = train.iloc[trn_ind], train.iloc[val_ind]\n",
    "    x_trn = cudf.from_pandas( drop_columns(trn) )\n",
    "    x_val   = cudf.from_pandas( drop_columns(val) )\n",
    "    \n",
    "    dtrain = xgb.DMatrix(x_trn, trn.open_channels)\n",
    "    dval   = xgb.DMatrix(x_val, val.open_channels)\n",
    "    dtest  = xgb.DMatrix(test)\n",
    "    \n",
    "    num_iters = 80\n",
    "    eval_list = [(dval, 'validation'), (dtrain, 'train')]\n",
    "    params = {'learning_rate': 0.3,\n",
    "              'max_depth': 10,\n",
    "              'subsample' : 0.9,\n",
    "              'colsample_bytree' : 0.8,\n",
    "              'colsample_bynode' : 0.8,\n",
    "              'objective': 'multi:softmax',\n",
    "              'num_class': 11,\n",
    "              'tree_method':'gpu_hist',\n",
    "              }\n",
    "    model = xgb.train(params, dtrain, num_iters, eval_list, verbose_eval=20)\n",
    "    \n",
    "    pred_val = model.predict( dval )\n",
    "    oof_preds[val_ind] = pred_val  # np.round( pred_val )\n",
    "        \n",
    "    pred_test += model.predict( dtest ) / 5\n",
    "    del model; _=gc.collect()"
   ]
  },
  {
   "cell_type": "code",
   "execution_count": 5,
   "metadata": {
    "execution": {
     "iopub.execute_input": "2020-10-28T08:11:49.395009Z",
     "iopub.status.busy": "2020-10-28T08:11:49.393843Z",
     "iopub.status.idle": "2020-10-28T08:11:52.149224Z",
     "shell.execute_reply": "2020-10-28T08:11:52.149784Z"
    },
    "papermill": {
     "duration": 2.781036,
     "end_time": "2020-10-28T08:11:52.149944",
     "exception": false,
     "start_time": "2020-10-28T08:11:49.368908",
     "status": "completed"
    },
    "tags": []
   },
   "outputs": [
    {
     "data": {
      "text/plain": [
       "0.9351129944026575"
      ]
     },
     "execution_count": 5,
     "metadata": {},
     "output_type": "execute_result"
    }
   ],
   "source": [
    "f1_score(train.open_channels, oof_preds, average=\"macro\")"
   ]
  },
  {
   "cell_type": "code",
   "execution_count": 6,
   "metadata": {
    "execution": {
     "iopub.execute_input": "2020-10-28T08:11:52.198376Z",
     "iopub.status.busy": "2020-10-28T08:11:52.196859Z",
     "iopub.status.idle": "2020-10-28T08:12:01.445772Z",
     "shell.execute_reply": "2020-10-28T08:12:01.445157Z"
    },
    "papermill": {
     "duration": 9.274773,
     "end_time": "2020-10-28T08:12:01.445896",
     "exception": false,
     "start_time": "2020-10-28T08:11:52.171123",
     "status": "completed"
    },
    "tags": []
   },
   "outputs": [],
   "source": [
    "sub.open_channels = np.round( pred_test ).astype(np.int32)\n",
    "sub.to_csv(\"submission.csv\", index=False, float_format='%.4f')"
   ]
  }
 ],
 "metadata": {
  "kernelspec": {
   "display_name": "Python 3",
   "language": "python",
   "name": "python3"
  },
  "language_info": {
   "codemirror_mode": {
    "name": "ipython",
    "version": 3
   },
   "file_extension": ".py",
   "mimetype": "text/x-python",
   "name": "python",
   "nbconvert_exporter": "python",
   "pygments_lexer": "ipython3",
   "version": "3.7.6"
  },
  "papermill": {
   "duration": 810.159213,
   "end_time": "2020-10-28T08:12:03.007337",
   "environment_variables": {},
   "exception": null,
   "input_path": "__notebook__.ipynb",
   "output_path": "__notebook__.ipynb",
   "parameters": {},
   "start_time": "2020-10-28T07:58:32.848124",
   "version": "2.1.0"
  }
 },
 "nbformat": 4,
 "nbformat_minor": 4
}
