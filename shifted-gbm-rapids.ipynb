{
 "cells": [
  {
   "cell_type": "code",
   "execution_count": 1,
   "metadata": {
    "_cell_guid": "b1076dfc-b9ad-4769-8c92-a6c4dae69d19",
    "_uuid": "8f2839f25d086af736a60e9eeb907d3b93b6e0e5",
    "execution": {
     "iopub.execute_input": "2020-11-02T07:13:58.369198Z",
     "iopub.status.busy": "2020-11-02T07:13:58.365755Z",
     "iopub.status.idle": "2020-11-02T07:15:22.752423Z",
     "shell.execute_reply": "2020-11-02T07:15:22.751030Z"
    },
    "papermill": {
     "duration": 84.407101,
     "end_time": "2020-11-02T07:15:22.752621",
     "exception": false,
     "start_time": "2020-11-02T07:13:58.345520",
     "status": "completed"
    },
    "tags": []
   },
   "outputs": [],
   "source": [
    "# Install RAPIDS 0.15.0\n",
    "\n",
    "import sys\n",
    "!cp ../input/rapids/rapids.0.15.0 /opt/conda/envs/rapids.tar.gz\n",
    "!cd /opt/conda/envs/ && tar -xzvf rapids.tar.gz > /dev/null\n",
    "sys.path = [\"/opt/conda/envs/rapids/lib/python3.7/site-packages\"] + sys.path\n",
    "sys.path = [\"/opt/conda/envs/rapids/lib/python3.7\"] + sys.path\n",
    "sys.path = [\"/opt/conda/envs/rapids/lib\"] + sys.path \n",
    "!cp /opt/conda/envs/rapids/lib/libxgboost.so /opt/conda/lib/"
   ]
  },
  {
   "cell_type": "code",
   "execution_count": 2,
   "metadata": {
    "_cell_guid": "79c7e3d0-c299-4dcb-8224-4455121ee9b0",
    "_uuid": "d629ff2d2480ee46fbb7e2d37f6b5fab8052498a",
    "execution": {
     "iopub.execute_input": "2020-11-02T07:15:49.281387Z",
     "iopub.status.busy": "2020-11-02T07:15:49.277622Z",
     "iopub.status.idle": "2020-11-02T07:15:52.151070Z",
     "shell.execute_reply": "2020-11-02T07:15:52.151828Z"
    },
    "papermill": {
     "duration": 2.922148,
     "end_time": "2020-11-02T07:15:52.152021",
     "exception": false,
     "start_time": "2020-11-02T07:15:49.229873",
     "status": "completed"
    },
    "tags": []
   },
   "outputs": [
    {
     "name": "stdout",
     "output_type": "stream",
     "text": [
      "CUML version: 0.15.0\n"
     ]
    }
   ],
   "source": [
    "import os, gc, math\n",
    "\n",
    "import numpy as np\n",
    "import pandas as pd\n",
    "\n",
    "from sklearn.ensemble import RandomForestClassifier\n",
    "from sklearn.pipeline import make_pipeline\n",
    "from sklearn.base import BaseEstimator, TransformerMixin\n",
    "from sklearn.metrics import f1_score, accuracy_score\n",
    "from sklearn.model_selection import KFold, StratifiedKFold, GroupKFold\n",
    "\n",
    "import xgboost as xgb\n",
    "\n",
    "import cuml\n",
    "from cuml.ensemble import RandomForestRegressor, RandomForestClassifier\n",
    "import cudf\n",
    "import pynvml\n",
    "\n",
    "print(\"CUML version:\", cuml.__version__)"
   ]
  },
  {
   "cell_type": "code",
   "execution_count": 3,
   "metadata": {
    "execution": {
     "iopub.execute_input": "2020-11-02T07:15:52.184843Z",
     "iopub.status.busy": "2020-11-02T07:15:52.179564Z",
     "iopub.status.idle": "2020-11-02T07:15:52.197863Z",
     "shell.execute_reply": "2020-11-02T07:15:52.197189Z"
    },
    "papermill": {
     "duration": 0.038344,
     "end_time": "2020-11-02T07:15:52.197979",
     "exception": false,
     "start_time": "2020-11-02T07:15:52.159635",
     "status": "completed"
    },
    "tags": []
   },
   "outputs": [],
   "source": [
    "def load_data():\n",
    "    train = pd.read_csv(\"../input/ion-clean/train_full_clean.csv\")\n",
    "    test = pd.read_csv(\"../input/ion-clean/test_full_clean.csv\")\n",
    "    sub = pd.read_csv(\"../input/liverpool-ion-switching/sample_submission.csv\")\n",
    "    train['signal'] = train['signal'].astype( np.float32 )\n",
    "    train['open_channels'] = train['open_channels'].astype( np.float32 )\n",
    "    test['signal'] = test['signal'].astype( np.float32 )\n",
    "    return train, test, sub\n",
    "\n",
    "\n",
    "def add_category(train, test):\n",
    "    # treat 10 open channels group as another category\n",
    "    \n",
    "    train[\"category\"] = 0\n",
    "    test[\"category\"] = 0\n",
    "    \n",
    "    # train segments with more then 9 open channels classes\n",
    "    train.loc[2_000_000:2_500_000, 'category'] = 1\n",
    "    train.loc[4_500_000:5_000_000, 'category'] = 1\n",
    "    \n",
    "    # test segments with more then 9 open channels classes (potentially)\n",
    "    test.loc[500_000:600_000, \"category\"] = 1\n",
    "    test.loc[700_000:800_000, \"category\"] = 1\n",
    "    \n",
    "    train['category'] = train['category'].astype( np.float32 )\n",
    "    test['category'] = test['category'].astype( np.float32 )\n",
    "    \n",
    "    return train, test\n",
    "\n",
    "\n",
    "def add_features(df, num_shift=11):\n",
    "    steps = np.arange(1, num_shift+1, dtype=np.int32)\n",
    "    steps = np.append(steps, -steps)\n",
    "    for step in steps:\n",
    "        df['signal_shift_' + str(step)] = df['signal'].shift(step, fill_value=0).astype( np.float32 )\n",
    "    df['signal_2'] = (df['signal'] ** 2).astype( np.float32 )\n",
    "    return df\n",
    "\n",
    "\n",
    "def augment_data(df):\n",
    "    aug_df = df[df[\"group\"] == 5].copy()\n",
    "    aug_df[\"category\"] = 1\n",
    "    aug_df[\"group\"] = 10\n",
    "    for col in [\"signal\", \"open_channels\"]:\n",
    "        aug_df[col] += df[df[\"group\"] == 8][col].values\n",
    "\n",
    "    aug_df['category'] = aug_df['category'].astype( np.float32 )\n",
    "    df = df.append(aug_df, sort=False)\n",
    "    return df\n",
    "\n",
    "\n",
    "def drop_columns(df, columns=('open_channels', 'time', 'group')):\n",
    "    return df[[c for c in df.columns if c not in columns]]"
   ]
  },
  {
   "cell_type": "code",
   "execution_count": 4,
   "metadata": {
    "execution": {
     "iopub.execute_input": "2020-11-02T07:15:52.232292Z",
     "iopub.status.busy": "2020-11-02T07:15:52.224928Z",
     "iopub.status.idle": "2020-11-02T07:26:17.658403Z",
     "shell.execute_reply": "2020-11-02T07:26:17.657725Z"
    },
    "papermill": {
     "duration": 625.453929,
     "end_time": "2020-11-02T07:26:17.658539",
     "exception": false,
     "start_time": "2020-11-02T07:15:52.204610",
     "status": "completed"
    },
    "tags": []
   },
   "outputs": [
    {
     "name": "stdout",
     "output_type": "stream",
     "text": [
      "Fold 0\n",
      "[0]\tvalidation-merror:0.04047\ttrain-merror:0.03924\n",
      "[20]\tvalidation-merror:0.03844\ttrain-merror:0.03715\n",
      "[40]\tvalidation-merror:0.03824\ttrain-merror:0.03666\n",
      "[60]\tvalidation-merror:0.03812\ttrain-merror:0.03627\n",
      "[79]\tvalidation-merror:0.03809\ttrain-merror:0.03595\n",
      "Fold 1\n",
      "[0]\tvalidation-merror:0.03937\ttrain-merror:0.03876\n",
      "[20]\tvalidation-merror:0.03823\ttrain-merror:0.03716\n",
      "[40]\tvalidation-merror:0.03811\ttrain-merror:0.03672\n",
      "[60]\tvalidation-merror:0.03799\ttrain-merror:0.03627\n",
      "[79]\tvalidation-merror:0.03795\ttrain-merror:0.03597\n",
      "Fold 2\n",
      "[0]\tvalidation-merror:0.03989\ttrain-merror:0.03884\n",
      "[20]\tvalidation-merror:0.03856\ttrain-merror:0.03714\n",
      "[40]\tvalidation-merror:0.03830\ttrain-merror:0.03663\n",
      "[60]\tvalidation-merror:0.03828\ttrain-merror:0.03620\n",
      "[79]\tvalidation-merror:0.03823\ttrain-merror:0.03587\n",
      "Fold 3\n",
      "[0]\tvalidation-merror:0.04225\ttrain-merror:0.04144\n",
      "[20]\tvalidation-merror:0.03830\ttrain-merror:0.03713\n",
      "[40]\tvalidation-merror:0.03815\ttrain-merror:0.03670\n",
      "[60]\tvalidation-merror:0.03811\ttrain-merror:0.03627\n",
      "[79]\tvalidation-merror:0.03808\ttrain-merror:0.03596\n",
      "Fold 4\n",
      "[0]\tvalidation-merror:0.04661\ttrain-merror:0.04525\n",
      "[20]\tvalidation-merror:0.03839\ttrain-merror:0.03717\n",
      "[40]\tvalidation-merror:0.03825\ttrain-merror:0.03669\n",
      "[60]\tvalidation-merror:0.03816\ttrain-merror:0.03628\n",
      "[79]\tvalidation-merror:0.03811\ttrain-merror:0.03594\n"
     ]
    }
   ],
   "source": [
    "train, test, sub = load_data()\n",
    "train[\"group\"] = np.arange(train.shape[0]) // 500_000\n",
    "\n",
    "train, test = add_category(train, test)\n",
    "train = augment_data(train)\n",
    "train = add_features(train)\n",
    "test = add_features(test)\n",
    "\n",
    "oof_preds = np.zeros((len(train)))\n",
    "pred_test = np.zeros((len(test)))\n",
    "test = cudf.from_pandas( drop_columns(test) )\n",
    "\n",
    "kf = StratifiedKFold(n_splits=5, shuffle=True, random_state=42)\n",
    "\n",
    "for fold, (trn_ind, val_ind) in enumerate(kf.split(train, train[\"group\"])):\n",
    "    print(f'Fold {fold}')\n",
    "    \n",
    "    trn, val = train.iloc[trn_ind], train.iloc[val_ind]\n",
    "    x_trn = cudf.from_pandas( drop_columns(trn) )\n",
    "    x_val = cudf.from_pandas( drop_columns(val) )\n",
    "    \n",
    "    dtrain = xgb.DMatrix(x_trn, trn.open_channels)\n",
    "    dval   = xgb.DMatrix(x_val, val.open_channels)\n",
    "    dtest  = xgb.DMatrix(test)\n",
    "    \n",
    "    num_iters = 80\n",
    "    eval_list = [(dval, 'validation'), (dtrain, 'train')]\n",
    "    params = {'learning_rate': 0.07080128012563476,\n",
    "              'max_depth': 9,\n",
    "              'subsample': 0.6957306253338301,\n",
    "              'colsample_bynode': 0.9743865302471345,\n",
    "              'colsample_bytree': 0.6702569827210605,\n",
    "              'objective': 'multi:softmax',\n",
    "              'num_class': 11,\n",
    "              'tree_method':'gpu_hist',\n",
    "              }\n",
    "    model = xgb.train(params, dtrain, num_iters, eval_list, verbose_eval=20)\n",
    "    \n",
    "    pred_val = model.predict( dval )\n",
    "    oof_preds[val_ind] = pred_val  # np.round( pred_val )\n",
    "        \n",
    "    pred_test += model.predict( dtest ) / 5\n",
    "    del model; _=gc.collect()"
   ]
  },
  {
   "cell_type": "code",
   "execution_count": 5,
   "metadata": {
    "execution": {
     "iopub.execute_input": "2020-11-02T07:26:17.702533Z",
     "iopub.status.busy": "2020-11-02T07:26:17.701390Z",
     "iopub.status.idle": "2020-11-02T07:26:21.108604Z",
     "shell.execute_reply": "2020-11-02T07:26:21.108027Z"
    },
    "papermill": {
     "duration": 3.431211,
     "end_time": "2020-11-02T07:26:21.108729",
     "exception": false,
     "start_time": "2020-11-02T07:26:17.677518",
     "status": "completed"
    },
    "tags": []
   },
   "outputs": [
    {
     "data": {
      "text/plain": [
       "0.9379106526542195"
      ]
     },
     "execution_count": 5,
     "metadata": {},
     "output_type": "execute_result"
    }
   ],
   "source": [
    "f1_score(train.open_channels, oof_preds, average=\"macro\")"
   ]
  },
  {
   "cell_type": "code",
   "execution_count": 6,
   "metadata": {
    "execution": {
     "iopub.execute_input": "2020-11-02T07:26:21.155186Z",
     "iopub.status.busy": "2020-11-02T07:26:21.153630Z",
     "iopub.status.idle": "2020-11-02T07:26:31.032702Z",
     "shell.execute_reply": "2020-11-02T07:26:31.031637Z"
    },
    "papermill": {
     "duration": 9.904353,
     "end_time": "2020-11-02T07:26:31.032869",
     "exception": false,
     "start_time": "2020-11-02T07:26:21.128516",
     "status": "completed"
    },
    "tags": []
   },
   "outputs": [],
   "source": [
    "sub.open_channels = np.round( pred_test ).astype(np.int32)\n",
    "sub.to_csv(\"submission.csv\", index=False, float_format='%.4f')"
   ]
  }
 ],
 "metadata": {
  "kernelspec": {
   "display_name": "Python 3",
   "language": "python",
   "name": "python3"
  },
  "language_info": {
   "codemirror_mode": {
    "name": "ipython",
    "version": 3
   },
   "file_extension": ".py",
   "mimetype": "text/x-python",
   "name": "python",
   "nbconvert_exporter": "python",
   "pygments_lexer": "ipython3",
   "version": "3.7.6"
  },
  "papermill": {
   "duration": 758.024965,
   "end_time": "2020-11-02T07:26:31.667092",
   "environment_variables": {},
   "exception": null,
   "input_path": "__notebook__.ipynb",
   "output_path": "__notebook__.ipynb",
   "parameters": {},
   "start_time": "2020-11-02T07:13:53.642127",
   "version": "2.1.0"
  }
 },
 "nbformat": 4,
 "nbformat_minor": 4
}
